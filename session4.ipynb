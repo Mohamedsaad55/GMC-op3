{
 "cells": [
  {
   "cell_type": "code",
   "execution_count": 1,
   "metadata": {},
   "outputs": [],
   "source": [
    "def summ (x,y):\n",
    "    return x + y \n",
    "    "
   ]
  },
  {
   "cell_type": "code",
   "execution_count": 4,
   "metadata": {},
   "outputs": [
    {
     "name": "stdout",
     "output_type": "stream",
     "text": [
      "5\n"
     ]
    }
   ],
   "source": [
    "summ(3,2)"
   ]
  },
  {
   "cell_type": "code",
   "execution_count": 5,
   "metadata": {},
   "outputs": [],
   "source": [
    "l = [1,5,2454,8,9,456,4,63,13]"
   ]
  },
  {
   "cell_type": "code",
   "execution_count": 7,
   "metadata": {},
   "outputs": [
    {
     "data": {
      "text/plain": [
       "2454"
      ]
     },
     "execution_count": 7,
     "metadata": {},
     "output_type": "execute_result"
    }
   ],
   "source": [
    "def find_max (l):\n",
    "    return max(l)\n",
    "\n",
    "find_max(l)"
   ]
  },
  {
   "cell_type": "markdown",
   "metadata": {},
   "source": [
    "given a string S \n",
    "reverse S\n",
    "ex : hello > olleh"
   ]
  },
  {
   "cell_type": "code",
   "execution_count": 18,
   "metadata": {},
   "outputs": [
    {
     "data": {
      "text/plain": [
       "'olleH'"
      ]
     },
     "execution_count": 18,
     "metadata": {},
     "output_type": "execute_result"
    }
   ],
   "source": [
    "def reverse_string(s):\n",
    "    return s[::-1]\n",
    "\n",
    "reverse_string(\"Hello\")"
   ]
  },
  {
   "cell_type": "code",
   "execution_count": 21,
   "metadata": {},
   "outputs": [
    {
     "data": {
      "text/plain": [
       "True"
      ]
     },
     "execution_count": 21,
     "metadata": {},
     "output_type": "execute_result"
    }
   ],
   "source": [
    "def pal(s):\n",
    "    return s == s[::-1]\n",
    "\n",
    "pal(\"anna\")"
   ]
  },
  {
   "cell_type": "code",
   "execution_count": 36,
   "metadata": {},
   "outputs": [],
   "source": [
    "l = [1,5,2454,8,9,456,4,63,13]\n",
    "\n",
    "# output = [0,4] if target = 10\n",
    "def two_sum (nums,target):\n",
    "    num_map = {}\n",
    "    for i , n in enumerate(l):\n",
    "        comp = target - n\n",
    "        print(i,comp)\n",
    "        print(i,num_map)\n",
    "        if comp in num_map :\n",
    "            print(\"!!!\" ,num_map[comp],i)\n",
    "            return [num_map[comp] , i] \n",
    "        num_map[n] = i\n",
    "        print(\"***\" , num_map[n])\n",
    "    return []"
   ]
  },
  {
   "cell_type": "code",
   "execution_count": 37,
   "metadata": {},
   "outputs": [
    {
     "name": "stdout",
     "output_type": "stream",
     "text": [
      "0 9\n",
      "0 {}\n",
      "*** 0\n",
      "1 5\n",
      "1 {1: 0}\n",
      "*** 1\n",
      "2 -2444\n",
      "2 {1: 0, 5: 1}\n",
      "*** 2\n",
      "3 2\n",
      "3 {1: 0, 5: 1, 2454: 2}\n",
      "*** 3\n",
      "4 1\n",
      "4 {1: 0, 5: 1, 2454: 2, 8: 3}\n",
      "!!! 0 4\n"
     ]
    },
    {
     "data": {
      "text/plain": [
       "[0, 4]"
      ]
     },
     "execution_count": 37,
     "metadata": {},
     "output_type": "execute_result"
    }
   ],
   "source": [
    "two_sum( l , 10 )"
   ]
  },
  {
   "cell_type": "code",
   "execution_count": 24,
   "metadata": {},
   "outputs": [
    {
     "name": "stdout",
     "output_type": "stream",
     "text": [
      "0 1\n",
      "1 5\n",
      "2 2454\n",
      "3 8\n",
      "4 9\n",
      "5 456\n",
      "6 4\n",
      "7 63\n",
      "8 13\n"
     ]
    }
   ],
   "source": [
    "l = [1,5,2454,8,9,456,4,63,13]\n",
    "for i , n in enumerate(l):\n",
    "    print(i,n)"
   ]
  },
  {
   "cell_type": "code",
   "execution_count": 39,
   "metadata": {},
   "outputs": [],
   "source": [
    "# def reverse_string(s):\n",
    "#     return s[::-1]\n",
    "\n",
    "# reverse_string(\"Hello\")\n"
   ]
  },
  {
   "cell_type": "code",
   "execution_count": 40,
   "metadata": {},
   "outputs": [
    {
     "data": {
      "text/plain": [
       "'olleh'"
      ]
     },
     "execution_count": 40,
     "metadata": {},
     "output_type": "execute_result"
    }
   ],
   "source": [
    "reverse_string = lambda s : s[::-1] \n",
    "reverse_string(\"hello\")"
   ]
  },
  {
   "cell_type": "code",
   "execution_count": 41,
   "metadata": {},
   "outputs": [],
   "source": [
    "calc = lambda x,y,z : x+y*z \n"
   ]
  },
  {
   "cell_type": "code",
   "execution_count": 42,
   "metadata": {},
   "outputs": [
    {
     "data": {
      "text/plain": [
       "14"
      ]
     },
     "execution_count": 42,
     "metadata": {},
     "output_type": "execute_result"
    }
   ],
   "source": [
    "calc(2,3,4)"
   ]
  },
  {
   "cell_type": "code",
   "execution_count": null,
   "metadata": {},
   "outputs": [],
   "source": [
    "# normal Functiuon > def function name (argument) :\n",
    "#     exprissions \n",
    "    \n",
    "# lambda > function name = lambda argument : expression"
   ]
  },
  {
   "cell_type": "code",
   "execution_count": 45,
   "metadata": {},
   "outputs": [
    {
     "data": {
      "text/plain": [
       "0"
      ]
     },
     "execution_count": 45,
     "metadata": {},
     "output_type": "execute_result"
    }
   ],
   "source": [
    "test = lambda x : 5 if x > 10 else 0 \n",
    "test(9)"
   ]
  },
  {
   "cell_type": "code",
   "execution_count": 47,
   "metadata": {},
   "outputs": [
    {
     "name": "stdout",
     "output_type": "stream",
     "text": [
      "5\n",
      "6\n",
      "6\n"
     ]
    }
   ],
   "source": [
    "fruit=('apple', 'banana', 'cherry')\n",
    "length = []\n",
    "for i in fruit :\n",
    "    print(len(i))\n",
    "    length.append(len(i))"
   ]
  },
  {
   "cell_type": "code",
   "execution_count": 51,
   "metadata": {},
   "outputs": [
    {
     "data": {
      "text/plain": [
       "[5, 6, 6]"
      ]
     },
     "execution_count": 51,
     "metadata": {},
     "output_type": "execute_result"
    }
   ],
   "source": [
    "length = list(map(len,fruit))\n",
    "length"
   ]
  },
  {
   "cell_type": "code",
   "execution_count": 60,
   "metadata": {},
   "outputs": [],
   "source": [
    "def summ (l,*n):\n",
    "    print (sum(n))\n",
    "    print(f\"Hello {l}\")"
   ]
  },
  {
   "cell_type": "code",
   "execution_count": 62,
   "metadata": {},
   "outputs": [
    {
     "name": "stdout",
     "output_type": "stream",
     "text": [
      "67\n",
      "Hello Mohamed\n"
     ]
    }
   ],
   "source": [
    "summ(\"Mohamed\",1,2,3,4,5,6,7,8,9,7,5,10)"
   ]
  },
  {
   "cell_type": "code",
   "execution_count": 70,
   "metadata": {},
   "outputs": [
    {
     "data": {
      "text/plain": [
       "'MOHAMED'"
      ]
     },
     "execution_count": 70,
     "metadata": {},
     "output_type": "execute_result"
    }
   ],
   "source": [
    "name = \"mohamed\"\n",
    "name.upper()"
   ]
  },
  {
   "cell_type": "code",
   "execution_count": 76,
   "metadata": {},
   "outputs": [],
   "source": [
    "class Car :\n",
    "    def __init__ (self ,make , model , year):\n",
    "        self.make = make\n",
    "        self.model = model \n",
    "        self.year = year \n",
    "        self.miles = 0\n",
    "        \n",
    "    def describe_car(self):\n",
    "        return f\"This Car made by {self.make} , model is {self.model} , {self.year}\"\n",
    "    def add_miles(self,mille):\n",
    "        return self.miles + mille"
   ]
  },
  {
   "cell_type": "code",
   "execution_count": 78,
   "metadata": {},
   "outputs": [],
   "source": [
    "my_car = Car(\"Toyota\" , \"Corolla\" , 2024)\n",
    "nadim_car = Car(\"Mitsubishi\", \"Lancer\" , 2020)"
   ]
  },
  {
   "cell_type": "code",
   "execution_count": 74,
   "metadata": {},
   "outputs": [
    {
     "data": {
      "text/plain": [
       "'This Car made by Toyota , model is Corolla , 2024'"
      ]
     },
     "execution_count": 74,
     "metadata": {},
     "output_type": "execute_result"
    }
   ],
   "source": [
    "my_car.describe_car()"
   ]
  },
  {
   "cell_type": "code",
   "execution_count": 79,
   "metadata": {},
   "outputs": [
    {
     "data": {
      "text/plain": [
       "50"
      ]
     },
     "execution_count": 79,
     "metadata": {},
     "output_type": "execute_result"
    }
   ],
   "source": [
    "my_car.add_miles(50)"
   ]
  },
  {
   "cell_type": "code",
   "execution_count": 80,
   "metadata": {},
   "outputs": [],
   "source": [
    "class Person:\n",
    "    def __init__(self, name, age, gender):\n",
    "        self.name = name\n",
    "        self.age = age\n",
    "        self.gender = gender\n",
    "\n",
    "    def introduce(self):\n",
    "        return f\"Hi, my name is {self.name}, I'm {self.age} years old.\"\n",
    "\n",
    "    def __str__(self):\n",
    "        return f\"Person(name={self.name}, age={self.age}, gender={self.gender})\"\n"
   ]
  },
  {
   "cell_type": "code",
   "execution_count": 88,
   "metadata": {},
   "outputs": [],
   "source": [
    "class Student (Person) :\n",
    "    def __init__ (self,name,age,gender,student_id):\n",
    "        super().__init__(name,age,gender)\n",
    "        self.student_id = student_id\n",
    "        \n",
    "    def study(self,subject):\n",
    "        return f\"{self.name} with {self.student_id} : is studying {subject}\""
   ]
  },
  {
   "cell_type": "code",
   "execution_count": 83,
   "metadata": {},
   "outputs": [
    {
     "ename": "AttributeError",
     "evalue": "'Person' object has no attribute 'study'",
     "output_type": "error",
     "traceback": [
      "\u001b[1;31m---------------------------------------------------------------------------\u001b[0m",
      "\u001b[1;31mAttributeError\u001b[0m                            Traceback (most recent call last)",
      "Cell \u001b[1;32mIn[83], line 3\u001b[0m\n\u001b[0;32m      1\u001b[0m person \u001b[38;5;241m=\u001b[39m Person(\u001b[38;5;124m\"\u001b[39m\u001b[38;5;124mNadim\u001b[39m\u001b[38;5;124m\"\u001b[39m , \u001b[38;5;241m25\u001b[39m , \u001b[38;5;124m\"\u001b[39m\u001b[38;5;124mMale\u001b[39m\u001b[38;5;124m\"\u001b[39m)\n\u001b[0;32m      2\u001b[0m person\u001b[38;5;241m.\u001b[39mintroduce()\n\u001b[1;32m----> 3\u001b[0m \u001b[43mperson\u001b[49m\u001b[38;5;241;43m.\u001b[39;49m\u001b[43mstudy\u001b[49m(\u001b[38;5;124m\"\u001b[39m\u001b[38;5;124mPython\u001b[39m\u001b[38;5;124m\"\u001b[39m)\n",
      "\u001b[1;31mAttributeError\u001b[0m: 'Person' object has no attribute 'study'"
     ]
    }
   ],
   "source": [
    "person = Person(\"Nadim\" , 25 , \"Male\")\n",
    "person.introduce()\n",
    "person.study(\"Python\")"
   ]
  },
  {
   "cell_type": "code",
   "execution_count": 96,
   "metadata": {},
   "outputs": [
    {
     "data": {
      "text/plain": [
       "\"Hi, my name is Mohamed, I'm 26 years old.\""
      ]
     },
     "execution_count": 96,
     "metadata": {},
     "output_type": "execute_result"
    }
   ],
   "source": [
    "student = Student(\"Mohamed\" , 25 , \"Male\" , 132456)\n",
    "student.age = 26\n",
    "student.introduce()\n",
    "#student.study(\"Python\")"
   ]
  },
  {
   "cell_type": "code",
   "execution_count": 4,
   "metadata": {},
   "outputs": [],
   "source": [
    "class Company:\n",
    "    def __init__(self, name, revenue, employees):\n",
    "        self.name = name\n",
    "        self.revenue = revenue\n",
    "        self.employees = employees\n",
    "\n",
    "    def revenue_per_employee(self):\n",
    "        return self.revenue / self.employees if self.employees != 0 else 0\n",
    "\n",
    "    def __str__(self):\n",
    "        return f\"Company(name={self.name}, revenue={self.revenue}, employees={self.employees})\"\n",
    "    \n",
    "class MarketResearch:\n",
    "    def __init__(self):\n",
    "        self.companies = []\n",
    "\n",
    "    def add_company(self, company):\n",
    "        self.companies.append(company)\n",
    "\n",
    "    def average_revenue(self):\n",
    "        total_revenue = sum(company.revenue for company in self.companies)\n",
    "        return total_revenue / len(self.companies) if self.companies else 0\n",
    "\n",
    "    def average_employees(self):\n",
    "        total_employees = sum(company.employees for company in self.companies)\n",
    "        return total_employees / len(self.companies) if self.companies else 0\n",
    "\n",
    "    def top_revenue_company(self):\n",
    "        if not self.companies:\n",
    "            return None\n",
    "        return max(self.companies, key=lambda company: company.revenue)\n",
    "\n",
    "    def top_revenue_per_employee_company(self):\n",
    "        if not self.companies:\n",
    "            return None\n",
    "        return max(self.companies, key=lambda company: company.revenue_per_employee())\n",
    "\n",
    "    def __str__(self):\n",
    "        return \"\\n\".join(str(company) for company in self.companies)\n"
   ]
  },
  {
   "cell_type": "code",
   "execution_count": 5,
   "metadata": {},
   "outputs": [
    {
     "name": "stdout",
     "output_type": "stream",
     "text": [
      "Market Research Data:\n",
      "Company(name=TechCorp, revenue=1000000, employees=50)\n",
      "Company(name=HealthInc, revenue=2000000, employees=150)\n",
      "Company(name=EduSoft, revenue=500000, employees=20)\n",
      "Company(name=AutoMotive, revenue=3000000, employees=200)\n",
      "\n",
      "Average Revenue: 1625000.0\n",
      "Average Number of Employees: 105.0\n",
      "Top Revenue Company: Company(name=AutoMotive, revenue=3000000, employees=200)\n",
      "Top Revenue per Employee Company: Company(name=EduSoft, revenue=500000, employees=20)\n"
     ]
    }
   ],
   "source": [
    "def main():\n",
    "    # Create instances of Company\n",
    "    company1 = Company(\"TechCorp\", 1000000, 50)\n",
    "    company2 = Company(\"HealthInc\", 2000000, 150)\n",
    "    company3 = Company(\"EduSoft\", 500000, 20)\n",
    "    company4 = Company(\"AutoMotive\", 3000000, 200)\n",
    "\n",
    "    # Create an instance of MarketResearch and add companies to it\n",
    "    market_research = MarketResearch()\n",
    "    market_research.add_company(company1)\n",
    "    market_research.add_company(company2)\n",
    "    market_research.add_company(company3)\n",
    "    market_research.add_company(company4)\n",
    "\n",
    "    # Perform analysis\n",
    "    print(\"Market Research Data:\")\n",
    "    print(market_research)\n",
    "\n",
    "    print(\"\\nAverage Revenue:\", market_research.average_revenue())\n",
    "    print(\"Average Number of Employees:\", market_research.average_employees())\n",
    "    print(\"Top Revenue Company:\", market_research.top_revenue_company())\n",
    "    print(\"Top Revenue per Employee Company:\", market_research.top_revenue_per_employee_company())\n",
    "\n",
    "if __name__ == \"__main__\":\n",
    "    main()\n"
   ]
  },
  {
   "cell_type": "code",
   "execution_count": null,
   "metadata": {},
   "outputs": [],
   "source": []
  }
 ],
 "metadata": {
  "kernelspec": {
   "display_name": "Python 3",
   "language": "python",
   "name": "python3"
  },
  "language_info": {
   "codemirror_mode": {
    "name": "ipython",
    "version": 3
   },
   "file_extension": ".py",
   "mimetype": "text/x-python",
   "name": "python",
   "nbconvert_exporter": "python",
   "pygments_lexer": "ipython3",
   "version": "3.10.11"
  }
 },
 "nbformat": 4,
 "nbformat_minor": 2
}
