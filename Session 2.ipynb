{
 "cells": [
  {
   "cell_type": "markdown",
   "id": "51da2e28-9b78-4027-98c7-6542a813ba6c",
   "metadata": {},
   "source": [
    "# Which one of the following if statements will not execute successfully:"
   ]
  },
  {
   "cell_type": "code",
   "execution_count": 50,
   "id": "a3e856ff-b6e3-447d-9c10-961437d0a373",
   "metadata": {},
   "outputs": [
    {
     "name": "stdout",
     "output_type": "stream",
     "text": [
      "foo\n"
     ]
    }
   ],
   "source": [
    "\n",
    "if (1, 2):print('foo')\n"
   ]
  },
  {
   "cell_type": "code",
   "execution_count": 44,
   "id": "270dff5f-8801-47aa-bfa8-8aaf5ce1d36d",
   "metadata": {},
   "outputs": [
    {
     "name": "stdout",
     "output_type": "stream",
     "text": [
      "foo\n"
     ]
    }
   ],
   "source": [
    "if (1, 2):\n",
    "                print('foo')\n",
    "\n"
   ]
  },
  {
   "cell_type": "code",
   "execution_count": 51,
   "id": "d7da62a6-8774-453c-b624-8cb396b73334",
   "metadata": {},
   "outputs": [
    {
     "name": "stdout",
     "output_type": "stream",
     "text": [
      "foo\n"
     ]
    }
   ],
   "source": [
    "if (1, 2):\n",
    "\n",
    "    print('foo')\n",
    "\n"
   ]
  },
  {
   "cell_type": "code",
   "execution_count": 49,
   "id": "25c58c3d-969b-43ed-b5cc-78abb8b35cc3",
   "metadata": {},
   "outputs": [
    {
     "name": "stdout",
     "output_type": "stream",
     "text": [
      "foo\n"
     ]
    }
   ],
   "source": [
    "if (1, 2): print('foo')\n",
    "\n"
   ]
  },
  {
   "cell_type": "code",
   "execution_count": 43,
   "id": "5dc6044e-82e5-409e-a55d-44c576f9e1ff",
   "metadata": {},
   "outputs": [
    {
     "name": "stdout",
     "output_type": "stream",
     "text": [
      "foo\n"
     ]
    }
   ],
   "source": [
    "if (1, 2):\n",
    "    print('foo')"
   ]
  },
  {
   "cell_type": "code",
   "execution_count": null,
   "id": "3db9ed25-8eb0-4c24-9726-ec9c9f9ca4fe",
   "metadata": {},
   "outputs": [],
   "source": []
  },
  {
   "cell_type": "code",
   "execution_count": null,
   "id": "aa33efb9-7aa5-4c12-bd61-81d9c3b42119",
   "metadata": {},
   "outputs": [],
   "source": []
  },
  {
   "cell_type": "markdown",
   "id": "74f961df-a606-4fb2-ace9-394dffc99671",
   "metadata": {},
   "source": [
    "# Given the nested if-else structure below, what will be the value of x after code execution completes"
   ]
  },
  {
   "cell_type": "code",
   "execution_count": 52,
   "id": "0b465059-3483-4690-96d0-17f64e96935e",
   "metadata": {},
   "outputs": [
    {
     "name": "stdout",
     "output_type": "stream",
     "text": [
      "2\n"
     ]
    }
   ],
   "source": [
    "x = 0\n",
    "a = 0\n",
    "b = -5\n",
    "if a > 0:\n",
    "    if b < 0: \n",
    "        x = x + 5 \n",
    "    elif a > 5:\n",
    "        x = x + 4\n",
    "    else:\n",
    "        x = x + 3\n",
    "else:\n",
    "    x = x + 2\n",
    "print(x)"
   ]
  },
  {
   "cell_type": "code",
   "execution_count": null,
   "id": "7a010a35-d82b-4efb-a764-8ab08d0ecbb6",
   "metadata": {},
   "outputs": [],
   "source": []
  },
  {
   "cell_type": "markdown",
   "id": "90803aa1-17c3-48ea-9ae9-fb5f46647236",
   "metadata": {},
   "source": [
    "# What is the value of x after the following nested for loop completes its execution"
   ]
  },
  {
   "cell_type": "code",
   "execution_count": 65,
   "id": "c6db6867-6ce0-4372-b36c-8d1da9e53fc3",
   "metadata": {},
   "outputs": [
    {
     "name": "stdout",
     "output_type": "stream",
     "text": [
      "0\n",
      "-1\n",
      "-2\n",
      "-3\n",
      "-4\n",
      "-5\n",
      "-6\n",
      "-7\n",
      "-8\n"
     ]
    }
   ],
   "source": [
    "x = 0\n",
    "for i in range(1):\n",
    "  for j in range(-1, -10, -1):\n",
    "    j += 1\n",
    "    print(j)"
   ]
  },
  {
   "cell_type": "markdown",
   "id": "8e08bd73-9aec-4633-8490-c0a4ddee50b3",
   "metadata": {},
   "source": []
  },
  {
   "cell_type": "code",
   "execution_count": 53,
   "id": "80bca653-f112-4fec-aa37-5fa5fd29ea65",
   "metadata": {},
   "outputs": [
    {
     "data": {
      "text/plain": [
       "range(0, 10)"
      ]
     },
     "execution_count": 53,
     "metadata": {},
     "output_type": "execute_result"
    }
   ],
   "source": [
    "range(10)"
   ]
  },
  {
   "cell_type": "code",
   "execution_count": 56,
   "id": "76b4ad3f-60b5-45fe-a082-de6a75168030",
   "metadata": {},
   "outputs": [
    {
     "name": "stdout",
     "output_type": "stream",
     "text": [
      "0\n",
      "1\n",
      "2\n",
      "3\n",
      "4\n",
      "5\n",
      "6\n",
      "7\n",
      "8\n",
      "9\n"
     ]
    }
   ],
   "source": [
    "for i in range(0 , 10 , 1 ) :\n",
    "    print(i)"
   ]
  },
  {
   "cell_type": "code",
   "execution_count": 60,
   "id": "2caade1d-ede0-456b-be9a-d4da17db0f70",
   "metadata": {},
   "outputs": [
    {
     "name": "stdout",
     "output_type": "stream",
     "text": [
      "-1\n",
      "-2\n",
      "-3\n",
      "-4\n",
      "-5\n",
      "-6\n",
      "-7\n",
      "-8\n",
      "-9\n"
     ]
    }
   ],
   "source": [
    "for j in range(-1, -10, -1):\n",
    "    print(j)"
   ]
  },
  {
   "cell_type": "code",
   "execution_count": 2,
   "id": "14d739fb-b2bc-467f-96cc-876c6c8651ce",
   "metadata": {},
   "outputs": [
    {
     "data": {
      "text/plain": [
       "False"
      ]
     },
     "execution_count": 2,
     "metadata": {},
     "output_type": "execute_result"
    }
   ],
   "source": [
    "x = \"\"\n",
    "bool(x)"
   ]
  },
  {
   "cell_type": "code",
   "execution_count": 3,
   "id": "7e123509-e2d5-4b44-98b1-109df21f27d0",
   "metadata": {},
   "outputs": [],
   "source": [
    "z= -6"
   ]
  },
  {
   "cell_type": "code",
   "execution_count": 4,
   "id": "036cc77a-6974-41c4-ba31-ae52e8ff38eb",
   "metadata": {},
   "outputs": [
    {
     "data": {
      "text/plain": [
       "True"
      ]
     },
     "execution_count": 4,
     "metadata": {},
     "output_type": "execute_result"
    }
   ],
   "source": [
    "bool(z)"
   ]
  },
  {
   "cell_type": "code",
   "execution_count": 5,
   "id": "f4434f22-ffa6-45ea-82da-9408cfdc5130",
   "metadata": {},
   "outputs": [],
   "source": [
    "s = \"mohamed\""
   ]
  },
  {
   "cell_type": "code",
   "execution_count": 6,
   "id": "c139a443-ba62-4c2d-9f6a-395500e2ed53",
   "metadata": {},
   "outputs": [
    {
     "data": {
      "text/plain": [
       "'MOHAMED'"
      ]
     },
     "execution_count": 6,
     "metadata": {},
     "output_type": "execute_result"
    }
   ],
   "source": [
    "s.upper()"
   ]
  },
  {
   "cell_type": "code",
   "execution_count": 7,
   "id": "56c8cba0-c623-4455-8d7c-0daf2a296311",
   "metadata": {},
   "outputs": [
    {
     "data": {
      "text/plain": [
       "'mohamed'"
      ]
     },
     "execution_count": 7,
     "metadata": {},
     "output_type": "execute_result"
    }
   ],
   "source": [
    "s.lower()"
   ]
  },
  {
   "cell_type": "code",
   "execution_count": 33,
   "id": "3911000a-1b8b-4451-be49-a647fbf8d3b8",
   "metadata": {},
   "outputs": [
    {
     "name": "stdin",
     "output_type": "stream",
     "text": [
      "What`s ur\t\t\t\t\tname ?\n",
      " mohamed,nadim,amira\n"
     ]
    }
   ],
   "source": [
    "name = input(\"What`s ur\\t\\t\\t\\t\\tname ?\\n\")"
   ]
  },
  {
   "cell_type": "code",
   "execution_count": 20,
   "id": "aa60b3b6-2c4e-46a4-a823-01c58027c5a3",
   "metadata": {},
   "outputs": [
    {
     "name": "stdout",
     "output_type": "stream",
     "text": [
      "Hello\n"
     ]
    }
   ],
   "source": [
    "if isinstance(s , str) :\n",
    "    print(\"Hello\")"
   ]
  },
  {
   "cell_type": "code",
   "execution_count": 13,
   "id": "ac545399-8cdb-435a-92fc-998b70d14ac1",
   "metadata": {},
   "outputs": [
    {
     "data": {
      "text/plain": [
       "\u001b[1;31mSignature:\u001b[0m \u001b[0misinstance\u001b[0m\u001b[1;33m(\u001b[0m\u001b[0mobj\u001b[0m\u001b[1;33m,\u001b[0m \u001b[0mclass_or_tuple\u001b[0m\u001b[1;33m,\u001b[0m \u001b[1;33m/\u001b[0m\u001b[1;33m)\u001b[0m\u001b[1;33m\u001b[0m\u001b[1;33m\u001b[0m\u001b[0m\n",
       "\u001b[1;31mDocstring:\u001b[0m\n",
       "Return whether an object is an instance of a class or of a subclass thereof.\n",
       "\n",
       "A tuple, as in ``isinstance(x, (A, B, ...))``, may be given as the target to\n",
       "check against. This is equivalent to ``isinstance(x, A) or isinstance(x, B)\n",
       "or ...`` etc.\n",
       "\u001b[1;31mType:\u001b[0m      builtin_function_or_method"
      ]
     },
     "metadata": {},
     "output_type": "display_data"
    }
   ],
   "source": [
    "isinstance?"
   ]
  },
  {
   "cell_type": "code",
   "execution_count": null,
   "id": "82159363-f466-4cf5-b8c0-29f45123a078",
   "metadata": {},
   "outputs": [],
   "source": []
  },
  {
   "cell_type": "code",
   "execution_count": 12,
   "id": "6b2552a7-76e0-492e-b32b-17bcad558ca3",
   "metadata": {},
   "outputs": [
    {
     "data": {
      "text/plain": [
       "\u001b[1;31mSignature:\u001b[0m \u001b[0mprint\u001b[0m\u001b[1;33m(\u001b[0m\u001b[1;33m*\u001b[0m\u001b[0margs\u001b[0m\u001b[1;33m,\u001b[0m \u001b[0msep\u001b[0m\u001b[1;33m=\u001b[0m\u001b[1;34m' '\u001b[0m\u001b[1;33m,\u001b[0m \u001b[0mend\u001b[0m\u001b[1;33m=\u001b[0m\u001b[1;34m'\\n'\u001b[0m\u001b[1;33m,\u001b[0m \u001b[0mfile\u001b[0m\u001b[1;33m=\u001b[0m\u001b[1;32mNone\u001b[0m\u001b[1;33m,\u001b[0m \u001b[0mflush\u001b[0m\u001b[1;33m=\u001b[0m\u001b[1;32mFalse\u001b[0m\u001b[1;33m)\u001b[0m\u001b[1;33m\u001b[0m\u001b[1;33m\u001b[0m\u001b[0m\n",
       "\u001b[1;31mDocstring:\u001b[0m\n",
       "Prints the values to a stream, or to sys.stdout by default.\n",
       "\n",
       "sep\n",
       "  string inserted between values, default a space.\n",
       "end\n",
       "  string appended after the last value, default a newline.\n",
       "file\n",
       "  a file-like object (stream); defaults to the current sys.stdout.\n",
       "flush\n",
       "  whether to forcibly flush the stream.\n",
       "\u001b[1;31mType:\u001b[0m      builtin_function_or_method"
      ]
     },
     "metadata": {},
     "output_type": "display_data"
    }
   ],
   "source": [
    "print?"
   ]
  },
  {
   "cell_type": "code",
   "execution_count": null,
   "id": "c296f399-edbe-4802-bdf5-0479999b6a2d",
   "metadata": {},
   "outputs": [],
   "source": []
  },
  {
   "cell_type": "code",
   "execution_count": 21,
   "id": "5a2e4338-540f-44af-9db9-f613fcec2940",
   "metadata": {},
   "outputs": [
    {
     "data": {
      "text/plain": [
       "False"
      ]
     },
     "execution_count": 21,
     "metadata": {},
     "output_type": "execute_result"
    }
   ],
   "source": [
    "s.isupper()"
   ]
  },
  {
   "cell_type": "code",
   "execution_count": 22,
   "id": "84986833-5079-47a6-b057-c4c2c28d8c5d",
   "metadata": {},
   "outputs": [
    {
     "data": {
      "text/plain": [
       "True"
      ]
     },
     "execution_count": 22,
     "metadata": {},
     "output_type": "execute_result"
    }
   ],
   "source": [
    "s.islower()"
   ]
  },
  {
   "cell_type": "code",
   "execution_count": 24,
   "id": "4902502d-4ae6-4058-a7a4-f4bd41293bbe",
   "metadata": {},
   "outputs": [
    {
     "data": {
      "text/plain": [
       "'mohamed'"
      ]
     },
     "execution_count": 24,
     "metadata": {},
     "output_type": "execute_result"
    }
   ],
   "source": [
    "name"
   ]
  },
  {
   "cell_type": "code",
   "execution_count": 26,
   "id": "7f979265-9fb3-4cfd-b4f7-9a76188d1cf6",
   "metadata": {},
   "outputs": [
    {
     "data": {
      "text/plain": [
       "7"
      ]
     },
     "execution_count": 26,
     "metadata": {},
     "output_type": "execute_result"
    }
   ],
   "source": [
    "len(name)  # len = index + 1"
   ]
  },
  {
   "cell_type": "code",
   "execution_count": 27,
   "id": "6a9d7526-2337-4e4a-b806-2b3b2d83ffe3",
   "metadata": {},
   "outputs": [
    {
     "data": {
      "text/plain": [
       "['m', 'o', 'h', 'a', 'm', 'e', 'd']"
      ]
     },
     "execution_count": 27,
     "metadata": {},
     "output_type": "execute_result"
    }
   ],
   "source": [
    "list(name)"
   ]
  },
  {
   "cell_type": "code",
   "execution_count": 29,
   "id": "d64f9dcc-3a3e-4166-b6a4-5b609548f4e1",
   "metadata": {},
   "outputs": [
    {
     "ename": "IndexError",
     "evalue": "string index out of range",
     "output_type": "error",
     "traceback": [
      "\u001b[1;31m---------------------------------------------------------------------------\u001b[0m",
      "\u001b[1;31mIndexError\u001b[0m                                Traceback (most recent call last)",
      "Cell \u001b[1;32mIn[29], line 1\u001b[0m\n\u001b[1;32m----> 1\u001b[0m name[\u001b[38;5;241m7\u001b[39m]\n",
      "\u001b[1;31mIndexError\u001b[0m: string index out of range"
     ]
    }
   ],
   "source": [
    "name[7]"
   ]
  },
  {
   "cell_type": "code",
   "execution_count": 35,
   "id": "6f5a6f2f-4111-4a1d-bca7-ce3958e9d941",
   "metadata": {},
   "outputs": [
    {
     "data": {
      "text/plain": [
       "['mohamed', 'nadim', 'amira']"
      ]
     },
     "execution_count": 35,
     "metadata": {},
     "output_type": "execute_result"
    }
   ],
   "source": [
    "name.split(\",\")"
   ]
  },
  {
   "cell_type": "code",
   "execution_count": 32,
   "id": "fb73570c-63f3-4187-bd0c-5303de66c0be",
   "metadata": {},
   "outputs": [
    {
     "data": {
      "text/plain": [
       "\u001b[1;31mSignature:\u001b[0m \u001b[0mname\u001b[0m\u001b[1;33m.\u001b[0m\u001b[0msplit\u001b[0m\u001b[1;33m(\u001b[0m\u001b[0msep\u001b[0m\u001b[1;33m=\u001b[0m\u001b[1;32mNone\u001b[0m\u001b[1;33m,\u001b[0m \u001b[0mmaxsplit\u001b[0m\u001b[1;33m=\u001b[0m\u001b[1;33m-\u001b[0m\u001b[1;36m1\u001b[0m\u001b[1;33m)\u001b[0m\u001b[1;33m\u001b[0m\u001b[1;33m\u001b[0m\u001b[0m\n",
       "\u001b[1;31mDocstring:\u001b[0m\n",
       "Return a list of the substrings in the string, using sep as the separator string.\n",
       "\n",
       "  sep\n",
       "    The separator used to split the string.\n",
       "\n",
       "    When set to None (the default value), will split on any whitespace\n",
       "    character (including \\n \\r \\t \\f and spaces) and will discard\n",
       "    empty strings from the result.\n",
       "  maxsplit\n",
       "    Maximum number of splits (starting from the left).\n",
       "    -1 (the default value) means no limit.\n",
       "\n",
       "Note, str.split() is mainly useful for data that has been intentionally\n",
       "delimited.  With natural text that includes punctuation, consider using\n",
       "the regular expression module.\n",
       "\u001b[1;31mType:\u001b[0m      builtin_function_or_method"
      ]
     },
     "metadata": {},
     "output_type": "display_data"
    }
   ],
   "source": [
    "name.split?"
   ]
  },
  {
   "cell_type": "code",
   "execution_count": 42,
   "id": "5221118b-5dcf-4edc-bcc1-34009d93a3ea",
   "metadata": {},
   "outputs": [
    {
     "data": {
      "text/plain": [
       "'mohamednadimamira'"
      ]
     },
     "execution_count": 42,
     "metadata": {},
     "output_type": "execute_result"
    }
   ],
   "source": [
    "name.replace(\",\",\"\")"
   ]
  },
  {
   "cell_type": "code",
   "execution_count": 37,
   "id": "eba22964-a14e-4fec-865d-ebd3f64135d9",
   "metadata": {},
   "outputs": [
    {
     "data": {
      "text/plain": [
       "'mohamed,nadim,amira'"
      ]
     },
     "execution_count": 37,
     "metadata": {},
     "output_type": "execute_result"
    }
   ],
   "source": [
    "name"
   ]
  },
  {
   "cell_type": "code",
   "execution_count": 39,
   "id": "16cc72c3-eead-4b16-a79c-b799c97ee48d",
   "metadata": {},
   "outputs": [
    {
     "data": {
      "text/plain": [
       "\u001b[1;31mSignature:\u001b[0m \u001b[0mname\u001b[0m\u001b[1;33m.\u001b[0m\u001b[0mreplace\u001b[0m\u001b[1;33m(\u001b[0m\u001b[0mold\u001b[0m\u001b[1;33m,\u001b[0m \u001b[0mnew\u001b[0m\u001b[1;33m,\u001b[0m \u001b[0mcount\u001b[0m\u001b[1;33m=\u001b[0m\u001b[1;33m-\u001b[0m\u001b[1;36m1\u001b[0m\u001b[1;33m,\u001b[0m \u001b[1;33m/\u001b[0m\u001b[1;33m)\u001b[0m\u001b[1;33m\u001b[0m\u001b[1;33m\u001b[0m\u001b[0m\n",
       "\u001b[1;31mDocstring:\u001b[0m\n",
       "Return a copy with all occurrences of substring old replaced by new.\n",
       "\n",
       "  count\n",
       "    Maximum number of occurrences to replace.\n",
       "    -1 (the default value) means replace all occurrences.\n",
       "\n",
       "If the optional argument count is given, only the first count occurrences are\n",
       "replaced.\n",
       "\u001b[1;31mType:\u001b[0m      builtin_function_or_method"
      ]
     },
     "metadata": {},
     "output_type": "display_data"
    }
   ],
   "source": [
    "name.replace?"
   ]
  },
  {
   "cell_type": "code",
   "execution_count": null,
   "id": "240314e5-b086-454b-ac39-49f98acb64a4",
   "metadata": {},
   "outputs": [],
   "source": []
  },
  {
   "cell_type": "markdown",
   "id": "2ca28bd6-8e8a-41ab-a9f4-2eb063a200aa",
   "metadata": {},
   "source": [
    "1 - user input \n",
    "2 - if condition\n",
    "3 - modulus %"
   ]
  },
  {
   "cell_type": "code",
   "execution_count": 79,
   "id": "687461fe-56c1-419b-a6f3-1599a9b67cfd",
   "metadata": {},
   "outputs": [
    {
     "name": "stdin",
     "output_type": "stream",
     "text": [
      "Enter a nuumber.. 10.7\n"
     ]
    },
    {
     "name": "stdout",
     "output_type": "stream",
     "text": [
      "even\n"
     ]
    }
   ],
   "source": [
    "num = int(float(input(\"Enter a nuumber..\")))\n",
    "if num % 2 == 0:\n",
    "    print(\"even\")\n",
    "elif num % 2 == 1 :\n",
    "    print(\"odd\")\n",
    "else :\n",
    "    print(\"please enter a valid number\")\n",
    "    "
   ]
  },
  {
   "cell_type": "code",
   "execution_count": 81,
   "id": "7b65d3ba-51c8-4785-8f6d-e8758d51f397",
   "metadata": {},
   "outputs": [
    {
     "data": {
      "text/plain": [
       "10.0"
      ]
     },
     "execution_count": 81,
     "metadata": {},
     "output_type": "execute_result"
    }
   ],
   "source": [
    "float('10')"
   ]
  },
  {
   "cell_type": "code",
   "execution_count": 77,
   "id": "21bea362-16f2-4c95-bf10-bda842a697ee",
   "metadata": {},
   "outputs": [
    {
     "data": {
      "text/plain": [
       "\u001b[1;31mSignature:\u001b[0m \u001b[0minput\u001b[0m\u001b[1;33m(\u001b[0m\u001b[0mprompt\u001b[0m\u001b[1;33m=\u001b[0m\u001b[1;34m''\u001b[0m\u001b[1;33m)\u001b[0m\u001b[1;33m\u001b[0m\u001b[1;33m\u001b[0m\u001b[0m\n",
       "\u001b[1;31mDocstring:\u001b[0m\n",
       "Forward raw_input to frontends\n",
       "\n",
       "Raises\n",
       "------\n",
       "StdinNotImplementedError if active frontend doesn't support stdin.\n",
       "\u001b[1;31mFile:\u001b[0m      c:\\users\\moham\\anaconda3\\lib\\site-packages\\ipykernel\\kernelbase.py\n",
       "\u001b[1;31mType:\u001b[0m      method"
      ]
     },
     "metadata": {},
     "output_type": "display_data"
    }
   ],
   "source": [
    "input?"
   ]
  },
  {
   "cell_type": "code",
   "execution_count": 86,
   "id": "e9e295f2-b33f-4c85-8692-aa5526456a84",
   "metadata": {},
   "outputs": [
    {
     "name": "stdin",
     "output_type": "stream",
     "text": [
      "Enter a nuumber.. 5\n"
     ]
    },
    {
     "name": "stdout",
     "output_type": "stream",
     "text": [
      "even\n"
     ]
    }
   ],
   "source": [
    "num = int(input(\"Enter a nuumber..\"))\n",
    "x = int(num / 2)\n",
    "if isinstance(x , float):\n",
    "    print(\"odd\")\n",
    "elif isinstance(x , int):\n",
    "    print(\"even\")"
   ]
  },
  {
   "cell_type": "code",
   "execution_count": null,
   "id": "e56923ef-9d37-4fc2-9400-012f2332a0c0",
   "metadata": {},
   "outputs": [],
   "source": []
  },
  {
   "cell_type": "markdown",
   "id": "f4f45b9b-ee6d-4e28-919c-40dcc2c5b294",
   "metadata": {},
   "source": [
    "# Write a Python program that checks if a given year is a leap year or not. A leap year is divisible by 4, except for years divisible by 100 but not divisible by 400."
   ]
  },
  {
   "cell_type": "markdown",
   "id": "55780011-8a1c-4d3f-a182-93d252100a8f",
   "metadata": {},
   "source": [
    "1 - user input \n",
    "2 - if condition \n",
    "3 - leap year year % 4 == 0 and year % 100 != 0 or year % 400 ==0"
   ]
  },
  {
   "cell_type": "code",
   "execution_count": 89,
   "id": "9c4d90fd-2255-471e-9a38-33b122b54ee9",
   "metadata": {},
   "outputs": [
    {
     "name": "stdin",
     "output_type": "stream",
     "text": [
      "please enter the year  1900\n"
     ]
    },
    {
     "name": "stdout",
     "output_type": "stream",
     "text": [
      "1900 is not a Leap year\n"
     ]
    }
   ],
   "source": [
    "year = int(input(\"please enter the year \"))\n",
    "if (year % 4 == 0 and year % 100 != 0) or year % 400 == 0 :\n",
    "    print(f\"{year} is a Leap year\")\n",
    "else :\n",
    "    print(f\"{year} is not a Leap year\")"
   ]
  },
  {
   "cell_type": "code",
   "execution_count": null,
   "id": "12dac8f2-bf74-4728-bf76-154c2ed538fd",
   "metadata": {},
   "outputs": [],
   "source": []
  },
  {
   "cell_type": "code",
   "execution_count": null,
   "id": "574ea10b-e55f-4054-abd7-33dde098e957",
   "metadata": {},
   "outputs": [],
   "source": []
  },
  {
   "cell_type": "markdown",
   "id": "2db102ad-a56f-4f29-b0fa-367acf92572f",
   "metadata": {},
   "source": [
    "# Create a basic ATM machine program that allows users to check their account balance and withdraw funds. You can set an initial account balance and then deduct the withdrawn amount."
   ]
  },
  {
   "cell_type": "markdown",
   "id": "4682cc6b-c525-4a73-9d22-8f3bf619b46f",
   "metadata": {},
   "source": [
    "1 - user input to select what to do \n",
    "2- if request show balance > input balance \n",
    "3- print balance \n",
    "4 - would you like to continue > if yes > step 2 * input for withdraw * > else > see you later \n",
    "5 - print new balance "
   ]
  },
  {
   "cell_type": "markdown",
   "id": "f5e9772b-61c3-415f-b240-2512e45ef70b",
   "metadata": {},
   "source": [
    "1- welcome message \n",
    "2 - balance = 5000 \n",
    "3- 2 options \n",
    "4 - . lower \n",
    "5- if var == balance > print accont balance \n",
    "6- if var == withdraw \n",
    "7- else > please write balance or withdraw "
   ]
  },
  {
   "cell_type": "code",
   "execution_count": 101,
   "id": "0f3f26f8-c62e-43ad-aebd-ccc2e94b3926",
   "metadata": {},
   "outputs": [
    {
     "name": "stdout",
     "output_type": "stream",
     "text": [
      "Welcome to ay 7aga \n"
     ]
    },
    {
     "name": "stdin",
     "output_type": "stream",
     "text": [
      "please select an Option from below\n",
      " 1- check balance\n",
      " 2- withdraw\n",
      " 1\n"
     ]
    },
    {
     "name": "stdout",
     "output_type": "stream",
     "text": [
      "Your Available balance is 5000 EGP\n"
     ]
    }
   ],
   "source": [
    "balance = 5000 \n",
    "print(\"Welcome to ay 7aga \")\n",
    "options = int(input(\"please select an Option from below\\n 1- check balance\\n 2- withdraw\\n\"))\n",
    "if options == 1 :\n",
    "    print(f\"Your Available balance is {balance} EGP\")\n",
    "elif options == 2 :\n",
    "    amount = float(input(\"please enter the amount you want to withdraw\"))\n",
    "    if amount <= balance:\n",
    "        balance -= amount\n",
    "        print(f\"withdrawn {amount} EGP , your available balance is {balance} EGP\")\n",
    "    else :\n",
    "        print(f\"ERROR! \\nwithdrawn {amount} EGP , your available balance is {balance} EGP\")\n",
    "        \n",
    "    \n",
    "else : \n",
    "    print(\"please select a valid option\")"
   ]
  },
  {
   "cell_type": "code",
   "execution_count": null,
   "id": "df2909db-7e51-4539-886a-b225595bcda9",
   "metadata": {},
   "outputs": [],
   "source": []
  },
  {
   "cell_type": "code",
   "execution_count": null,
   "id": "3c54181e-c445-46c1-86d5-438531848b91",
   "metadata": {},
   "outputs": [],
   "source": []
  },
  {
   "cell_type": "markdown",
   "id": "eed1b57e-c051-4bb6-890c-f8a00dcea8f9",
   "metadata": {},
   "source": [
    "# for loop"
   ]
  },
  {
   "cell_type": "code",
   "execution_count": 102,
   "id": "8ff54cc8-6ac0-41ff-abdc-8ab1f44d7898",
   "metadata": {},
   "outputs": [
    {
     "name": "stdout",
     "output_type": "stream",
     "text": [
      "1\n",
      "2\n",
      "3\n",
      "4\n",
      "5\n",
      "6\n",
      "7\n",
      "8\n",
      "9\n",
      "10\n"
     ]
    }
   ],
   "source": [
    "for i in range(1,11):\n",
    "    print(i)"
   ]
  },
  {
   "cell_type": "code",
   "execution_count": 106,
   "id": "4905fc77-671a-4651-87f3-ef6b65ea77bb",
   "metadata": {},
   "outputs": [
    {
     "name": "stdout",
     "output_type": "stream",
     "text": [
      "N\n",
      "a\n",
      "d\n",
      "i\n",
      "m\n"
     ]
    }
   ],
   "source": [
    "s = \"Nadim\"\n",
    "for i in s:\n",
    "    print(i)"
   ]
  },
  {
   "cell_type": "markdown",
   "id": "84f2d9fc-6957-4d94-b383-01fe813b0418",
   "metadata": {},
   "source": [
    "# Let’s write a program to find the largest number in a list of integers."
   ]
  },
  {
   "cell_type": "code",
   "execution_count": 113,
   "id": "bdb73b21-792a-46e1-a34d-cf46d8ccefce",
   "metadata": {},
   "outputs": [
    {
     "name": "stdout",
     "output_type": "stream",
     "text": [
      "465\n"
     ]
    }
   ],
   "source": [
    "num = [50,100,156,321,465,1,2,3,4]\n",
    "x = 0\n",
    "for i in num :\n",
    "    if i > x :\n",
    "        x = i\n",
    "print(x)\n"
   ]
  },
  {
   "cell_type": "code",
   "execution_count": 109,
   "id": "cdc85195-c6c6-435f-ae5e-cb429559de6f",
   "metadata": {},
   "outputs": [
    {
     "data": {
      "text/plain": [
       "465"
      ]
     },
     "execution_count": 109,
     "metadata": {},
     "output_type": "execute_result"
    }
   ],
   "source": [
    "max(num)"
   ]
  },
  {
   "cell_type": "code",
   "execution_count": null,
   "id": "a11a2311-6e71-446f-b4db-540c9b2b9c37",
   "metadata": {},
   "outputs": [],
   "source": []
  },
  {
   "cell_type": "markdown",
   "id": "482bc351-01ef-4a65-95b7-a4c96b15fa37",
   "metadata": {},
   "source": [
    "# Let’s use a for-loop to print the multiplication table for a given number in Python. The below code will print the multiplication table for the number 7."
   ]
  },
  {
   "cell_type": "code",
   "execution_count": 115,
   "id": "6aa0f5a8-d851-4986-8ae2-14bd208a3119",
   "metadata": {},
   "outputs": [
    {
     "name": "stdout",
     "output_type": "stream",
     "text": [
      " 7 x 0 = 0\n",
      " 7 x 1 = 7\n",
      " 7 x 2 = 14\n",
      " 7 x 3 = 21\n",
      " 7 x 4 = 28\n",
      " 7 x 5 = 35\n",
      " 7 x 6 = 42\n",
      " 7 x 7 = 49\n",
      " 7 x 8 = 56\n",
      " 7 x 9 = 63\n",
      " 7 x 10 = 70\n",
      " 7 x 11 = 77\n",
      " 7 x 12 = 84\n"
     ]
    }
   ],
   "source": [
    "for i in range(13):\n",
    "    print(f\" 7 x {i} = {i * 7}\") "
   ]
  },
  {
   "cell_type": "code",
   "execution_count": 125,
   "id": "632f28c2-7080-485e-b43b-32d1334762b9",
   "metadata": {},
   "outputs": [
    {
     "name": "stdin",
     "output_type": "stream",
     "text": [
      "please enter a number 5\n"
     ]
    },
    {
     "name": "stdout",
     "output_type": "stream",
     "text": [
      "1\n",
      "2\n",
      "6\n",
      "24\n",
      "120\n"
     ]
    }
   ],
   "source": [
    "num = int(input(\"please enter a number\"))\n",
    "factorial = 1\n",
    "for i in range (1,num+1):\n",
    "    factorial *= i\n",
    "    print(factorial)"
   ]
  },
  {
   "cell_type": "markdown",
   "id": "a50adcff-0cad-4304-9642-1f1681152bd4",
   "metadata": {},
   "source": [
    "# While Loop "
   ]
  },
  {
   "cell_type": "code",
   "execution_count": 122,
   "id": "98980310-bbda-48c4-9cca-14d640dc8e2e",
   "metadata": {},
   "outputs": [
    {
     "name": "stdin",
     "output_type": "stream",
     "text": [
      "please enter a number 5\n"
     ]
    },
    {
     "name": "stdout",
     "output_type": "stream",
     "text": [
      "120\n"
     ]
    }
   ],
   "source": [
    "num = int(input(\"please enter a number\"))\n",
    "fact = 1\n",
    "while num > 0:\n",
    "    fact *= num \n",
    "    num -= 1\n",
    "print(fact)"
   ]
  },
  {
   "cell_type": "markdown",
   "id": "5b36c676-b24a-4ddf-afc5-ba7780e9c470",
   "metadata": {},
   "source": [
    "# This special Python exercise code prints a triangle pattern of stars with a user-specified number of rows using a while loop."
   ]
  },
  {
   "cell_type": "code",
   "execution_count": 129,
   "id": "069839c1-23f1-480a-a00c-d9100f93d4c1",
   "metadata": {},
   "outputs": [
    {
     "name": "stdin",
     "output_type": "stream",
     "text": [
      "please enter a number 10\n"
     ]
    },
    {
     "name": "stdout",
     "output_type": "stream",
     "text": [
      "**********\n",
      "*********\n",
      "********\n",
      "*******\n",
      "******\n",
      "*****\n",
      "****\n",
      "***\n",
      "**\n",
      "*\n"
     ]
    }
   ],
   "source": [
    "num = int(input(\"please enter a number\"))\n",
    "row = num\n",
    "while True :\n",
    "    print(\"*\" * row)\n",
    "    row -= 1\n",
    "    if row == 0 :\n",
    "        break "
   ]
  },
  {
   "cell_type": "markdown",
   "id": "8cb8d23e-18b0-4db1-9dff-0dbc4b752242",
   "metadata": {},
   "source": [
    "# chrithmas tree \n"
   ]
  },
  {
   "cell_type": "code",
   "execution_count": 130,
   "id": "79db89da-4cb5-40ad-8ec7-01c736691447",
   "metadata": {},
   "outputs": [
    {
     "name": "stdout",
     "output_type": "stream",
     "text": [
      "        * \n",
      "       * * \n",
      "      * * * \n",
      "      * * * \n",
      "     * * * * \n",
      "    * * * * * \n",
      "   * * * * * * \n",
      "  * * * * * * * \n",
      "     * * * * \n",
      "    * * * * * \n",
      "   * * * * * * \n",
      "  * * * * * * * \n",
      " * * * * * * * * \n",
      "* * * * * * * * * \n",
      "* * * * * * * * * * \n",
      "      * * * \n",
      "      * * * \n",
      "      * * * \n",
      "      * * * \n",
      "      * * * \n"
     ]
    }
   ],
   "source": [
    "num = 3\n",
    "for i in range(1, num+1):\n",
    "    print(\" \"*(2*num-i+3), end=\"\")\n",
    "    for j in range(1, i+1):\n",
    "        print(\"*\", end=\" \")\n",
    "    print()\n",
    " \n",
    "for i in range(1, num+3):\n",
    "    print(\" \"*(2*num-i+1), end=\"\")\n",
    "    for j in range(-1, i+1):\n",
    "        print(\"*\", end=\" \")\n",
    "    print()\n",
    " \n",
    "for i in range(1, num+5):\n",
    "    print(\" \"*(2*num-i), end=\"\")\n",
    "    for j in range(-2, i+1):\n",
    "        print(\"*\", end=\" \")\n",
    "    print()\n",
    " \n",
    "for i in range(1, num+3):\n",
    "    print(\" \"*((2*num)), end=\"\")\n",
    "    print(\"* \"*3)"
   ]
  },
  {
   "cell_type": "code",
   "execution_count": null,
   "id": "8b5aa0ff-a6a3-482c-9a8e-63e5685f3b91",
   "metadata": {},
   "outputs": [],
   "source": []
  },
  {
   "cell_type": "code",
   "execution_count": 167,
   "id": "3f0128db-c845-49e3-8722-6b667ff58987",
   "metadata": {},
   "outputs": [
    {
     "name": "stdout",
     "output_type": "stream",
     "text": [
      "[1, 2, 3, 4, 5, 6, 'asd', True, 10.5, 1, 2, 3, 'amira', 1, 2, 3, 4]\n"
     ]
    }
   ],
   "source": [
    "# list \n",
    "l = [1,2,3,4,5,6,\"asd\" , True , 10.5 , 1,2,3,4]\n",
    "l[-1] = \"amira\"\n",
    "l2 = [1,2,3,4]\n",
    "print(l+l2)"
   ]
  },
  {
   "cell_type": "code",
   "execution_count": 153,
   "id": "2df333da-50a7-4d07-9c04-560eafb5774d",
   "metadata": {},
   "outputs": [
    {
     "data": {
      "text/plain": [
       "(1, 2, 3, 4, 1, 2, 3)"
      ]
     },
     "execution_count": 153,
     "metadata": {},
     "output_type": "execute_result"
    }
   ],
   "source": [
    "# tuple \n",
    "t = (1,2,3,4)\n",
    "t1 = (1,2,3)\n",
    "t + t1 "
   ]
  },
  {
   "cell_type": "code",
   "execution_count": 170,
   "id": "8dde6223-6c66-4ba4-9bdb-05a69f92ee4d",
   "metadata": {},
   "outputs": [
    {
     "data": {
      "text/plain": [
       "[1, 2, 3, 4, 5, 6, 'asd', True, 10.5, 1, 2, 3, 'amira']"
      ]
     },
     "execution_count": 170,
     "metadata": {},
     "output_type": "execute_result"
    }
   ],
   "source": [
    "l"
   ]
  },
  {
   "cell_type": "code",
   "execution_count": 169,
   "id": "f7d53955-f9d2-44d5-9abd-f3a47ba68e2b",
   "metadata": {},
   "outputs": [
    {
     "data": {
      "text/plain": [
       "{1, 10.5, 2, 3, 4, 5, 6, 'amira', 'asd'}"
      ]
     },
     "execution_count": 169,
     "metadata": {},
     "output_type": "execute_result"
    }
   ],
   "source": [
    "# set \n",
    "s = {1,2,3,4,5,\"str\", 10.5}\n",
    "s1 = {1,2,3,4,5}\n",
    "s.add(3)\n",
    "set(l)"
   ]
  },
  {
   "cell_type": "code",
   "execution_count": 180,
   "id": "94467072-9f51-4d75-b40c-6716c44141e1",
   "metadata": {},
   "outputs": [],
   "source": [
    "# dict \n",
    "d = {\"name\" : \"Mohamed\" , \"age\" : 20}"
   ]
  },
  {
   "cell_type": "code",
   "execution_count": 185,
   "id": "99f4320c-f798-47dc-9e02-8b8cd8d83067",
   "metadata": {},
   "outputs": [
    {
     "data": {
      "text/plain": [
       "'nadim'"
      ]
     },
     "execution_count": 185,
     "metadata": {},
     "output_type": "execute_result"
    }
   ],
   "source": [
    "d[\"name\"] = ['mohamed' , 'nadim' , 'amira']\n",
    "d[\"name\"][1]"
   ]
  },
  {
   "cell_type": "code",
   "execution_count": 137,
   "id": "6a1469f9-483c-4351-b454-d954f9031666",
   "metadata": {},
   "outputs": [],
   "source": [
    "name = \"mohamed\""
   ]
  },
  {
   "cell_type": "code",
   "execution_count": 138,
   "id": "01b536b8-80ff-47d1-8925-c16e4205329d",
   "metadata": {},
   "outputs": [
    {
     "data": {
      "text/plain": [
       "'o'"
      ]
     },
     "execution_count": 138,
     "metadata": {},
     "output_type": "execute_result"
    }
   ],
   "source": [
    "name[1]"
   ]
  },
  {
   "cell_type": "code",
   "execution_count": null,
   "id": "41b66d5c-9ddd-4227-b13d-57a7eb7fc152",
   "metadata": {},
   "outputs": [],
   "source": []
  }
 ],
 "metadata": {
  "kernelspec": {
   "display_name": "Python 3 (ipykernel)",
   "language": "python",
   "name": "python3"
  },
  "language_info": {
   "codemirror_mode": {
    "name": "ipython",
    "version": 3
   },
   "file_extension": ".py",
   "mimetype": "text/x-python",
   "name": "python",
   "nbconvert_exporter": "python",
   "pygments_lexer": "ipython3",
   "version": "3.11.7"
  }
 },
 "nbformat": 4,
 "nbformat_minor": 5
}
