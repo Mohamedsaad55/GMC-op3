{
 "cells": [
  {
   "cell_type": "markdown",
   "id": "7543d872-51a4-454e-bc72-1ca3e6131164",
   "metadata": {},
   "source": [
    "## Hello "
   ]
  },
  {
   "cell_type": "code",
   "execution_count": 24,
   "id": "e2861be6-51bf-4ce0-865e-29ac2e3e8171",
   "metadata": {},
   "outputs": [],
   "source": [
    "x = 5\n",
    "y = 0 "
   ]
  },
  {
   "cell_type": "code",
   "execution_count": 9,
   "id": "65b55f7a-12dc-4bb5-9086-2897fa5161c2",
   "metadata": {},
   "outputs": [],
   "source": [
    "# import \n",
    "import pandas\n",
    "from pandas import DataFrame"
   ]
  },
  {
   "cell_type": "code",
   "execution_count": null,
   "id": "b94d8d8b-c7cb-4779-89ac-02b9cdc2207b",
   "metadata": {},
   "outputs": [],
   "source": [
    "# and , or , not > True , False "
   ]
  },
  {
   "cell_type": "code",
   "execution_count": 26,
   "id": "8a3b63fa-49e6-411b-9461-648249fa01b9",
   "metadata": {},
   "outputs": [
    {
     "name": "stdout",
     "output_type": "stream",
     "text": [
      "HEllo\n"
     ]
    }
   ],
   "source": [
    "if not y :\n",
    "    print(\"HEllo\")"
   ]
  },
  {
   "cell_type": "code",
   "execution_count": 17,
   "id": "ab3eb8ba-e322-4d70-b3b9-6281a48125fc",
   "metadata": {},
   "outputs": [],
   "source": [
    "del(y)"
   ]
  },
  {
   "cell_type": "code",
   "execution_count": 21,
   "id": "b593889e-c530-4a1b-aea1-a368a801d39d",
   "metadata": {},
   "outputs": [],
   "source": [
    "x= 10"
   ]
  },
  {
   "cell_type": "code",
   "execution_count": 23,
   "id": "a6d7bcb8-9785-42f4-9df3-92cdf57696b5",
   "metadata": {},
   "outputs": [
    {
     "name": "stdout",
     "output_type": "stream",
     "text": [
      "5\n"
     ]
    }
   ],
   "source": [
    "print(x)"
   ]
  },
  {
   "cell_type": "code",
   "execution_count": 131,
   "id": "95673659-7c61-49f2-bea6-e162c59721aa",
   "metadata": {},
   "outputs": [],
   "source": [
    "\n",
    "# sum x and y x + y  "
   ]
  },
  {
   "cell_type": "code",
   "execution_count": 133,
   "id": "1f885d16-04f2-4639-a8dc-514d37b59235",
   "metadata": {},
   "outputs": [],
   "source": [
    "def nadem (x,y) : \n",
    "    \"\"\"\n",
    "    Hello this is Nadem ,\n",
    "    ,\n",
    "    ,,\n",
    "    ,\n",
    "    ,\n",
    "    ,,\n",
    "    \n",
    "    \n",
    "    \"\"\"\n",
    "    return x + y * x\n",
    "    print(\"Hello Python\")"
   ]
  },
  {
   "cell_type": "code",
   "execution_count": 32,
   "id": "27b5d6cc-3a93-49a2-b971-918f1acf50ad",
   "metadata": {},
   "outputs": [
    {
     "data": {
      "text/plain": [
       "30"
      ]
     },
     "execution_count": 32,
     "metadata": {},
     "output_type": "execute_result"
    }
   ],
   "source": [
    "ahmed(5,5)"
   ]
  },
  {
   "cell_type": "code",
   "execution_count": 33,
   "id": "a14d7991-cb3d-4331-a579-71902e6310c2",
   "metadata": {},
   "outputs": [],
   "source": [
    "del(ahmed)"
   ]
  },
  {
   "cell_type": "code",
   "execution_count": 34,
   "id": "29211074-b13e-4be9-8d3a-2cd48f805539",
   "metadata": {},
   "outputs": [
    {
     "ename": "NameError",
     "evalue": "name 'ahmed' is not defined",
     "output_type": "error",
     "traceback": [
      "\u001b[1;31m---------------------------------------------------------------------------\u001b[0m",
      "\u001b[1;31mNameError\u001b[0m                                 Traceback (most recent call last)",
      "Cell \u001b[1;32mIn[34], line 1\u001b[0m\n\u001b[1;32m----> 1\u001b[0m ahmed(\u001b[38;5;241m5\u001b[39m,\u001b[38;5;241m5\u001b[39m)\n",
      "\u001b[1;31mNameError\u001b[0m: name 'ahmed' is not defined"
     ]
    }
   ],
   "source": [
    "ahmed(5,5)"
   ]
  },
  {
   "cell_type": "code",
   "execution_count": 134,
   "id": "d7e8e384-73d8-4065-acee-dc2a01cdab60",
   "metadata": {},
   "outputs": [
    {
     "data": {
      "text/plain": [
       "\u001b[1;31mSignature:\u001b[0m \u001b[0mnadem\u001b[0m\u001b[1;33m(\u001b[0m\u001b[0mx\u001b[0m\u001b[1;33m,\u001b[0m \u001b[0my\u001b[0m\u001b[1;33m)\u001b[0m\u001b[1;33m\u001b[0m\u001b[1;33m\u001b[0m\u001b[0m\n",
       "\u001b[1;31mDocstring:\u001b[0m\n",
       "Hello this is Nadem ,\n",
       ",\n",
       ",,\n",
       ",\n",
       ",\n",
       ",,\n",
       "\u001b[1;31mFile:\u001b[0m      c:\\users\\moham\\appdata\\local\\temp\\ipykernel_19672\\1674226314.py\n",
       "\u001b[1;31mType:\u001b[0m      function"
      ]
     },
     "metadata": {},
     "output_type": "display_data"
    }
   ],
   "source": [
    "nadem?"
   ]
  },
  {
   "cell_type": "code",
   "execution_count": 68,
   "id": "53dad74b-e141-4314-ba1c-699db50f8874",
   "metadata": {},
   "outputs": [
    {
     "name": "stdout",
     "output_type": "stream",
     "text": [
      "x Not equal 5\n"
     ]
    }
   ],
   "source": [
    "if x ==5:\n",
    "    print(\"x = 5\")\n",
    "elif x == 7:\n",
    "    print(\"x = 7\")\n",
    "elif x == 10 :\n",
    "    print(\"x == 10\")\n",
    "else :\n",
    "    print(\"x Not equal 5\") "
   ]
  },
  {
   "cell_type": "code",
   "execution_count": 51,
   "id": "7f56646f-0bfc-4dcf-a99a-1935eed23f2c",
   "metadata": {},
   "outputs": [],
   "source": [
    "x = 500"
   ]
  },
  {
   "cell_type": "code",
   "execution_count": 48,
   "id": "bcb9739b-4c2e-48c0-849d-1cccfcae7d50",
   "metadata": {},
   "outputs": [
    {
     "data": {
      "text/plain": [
       "False"
      ]
     },
     "execution_count": 48,
     "metadata": {},
     "output_type": "execute_result"
    }
   ],
   "source": [
    "x == 7"
   ]
  },
  {
   "cell_type": "code",
   "execution_count": 71,
   "id": "a80cedfb-c1b0-4b00-8ef7-7f9f16b3d06f",
   "metadata": {},
   "outputs": [],
   "source": [
    "if x == 5 :\n",
    "    print(x)"
   ]
  },
  {
   "cell_type": "code",
   "execution_count": 136,
   "id": "073c9372-0dd8-4137-ac21-5273b57ba366",
   "metadata": {},
   "outputs": [],
   "source": [
    "   nadem = \"\"\"\n",
    "    Hello this is Nadem ,\n",
    "    ,\n",
    "    ,,\n",
    "    ,\n",
    "    ,\n",
    "    ,,\n",
    "    \n",
    "    \n",
    "    \"\"\""
   ]
  },
  {
   "cell_type": "code",
   "execution_count": 137,
   "id": "ba10f48b-efb2-4da0-86a0-dfdf5c569695",
   "metadata": {},
   "outputs": [
    {
     "data": {
      "text/plain": [
       "'\\n Hello this is Nadem ,\\n ,\\n ,,\\n ,\\n ,\\n ,,\\n \\n \\n '"
      ]
     },
     "execution_count": 137,
     "metadata": {},
     "output_type": "execute_result"
    }
   ],
   "source": [
    "nadem"
   ]
  },
  {
   "cell_type": "code",
   "execution_count": 53,
   "id": "c74a956f-0428-46ee-ad45-b8bf975db33e",
   "metadata": {},
   "outputs": [
    {
     "data": {
      "text/plain": [
       "510"
      ]
     },
     "execution_count": 53,
     "metadata": {},
     "output_type": "execute_result"
    }
   ],
   "source": [
    "x + 10"
   ]
  },
  {
   "cell_type": "code",
   "execution_count": 61,
   "id": "0b1a1901-775a-494b-8b64-a31ecb896290",
   "metadata": {},
   "outputs": [],
   "source": [
    "_name = \"Mohamed\""
   ]
  },
  {
   "cell_type": "code",
   "execution_count": 59,
   "id": "0780b778-cebb-4d2e-bc83-dcd447116243",
   "metadata": {},
   "outputs": [],
   "source": [
    "name_1 = \"Ahmed\""
   ]
  },
  {
   "cell_type": "code",
   "execution_count": 60,
   "id": "d29481a2-f72d-420b-a17a-a0a74da4acf3",
   "metadata": {},
   "outputs": [
    {
     "ename": "NameError",
     "evalue": "name 'Name' is not defined",
     "output_type": "error",
     "traceback": [
      "\u001b[1;31m---------------------------------------------------------------------------\u001b[0m",
      "\u001b[1;31mNameError\u001b[0m                                 Traceback (most recent call last)",
      "Cell \u001b[1;32mIn[60], line 1\u001b[0m\n\u001b[1;32m----> 1\u001b[0m \u001b[38;5;28mprint\u001b[39m(Name)\n",
      "\u001b[1;31mNameError\u001b[0m: name 'Name' is not defined"
     ]
    }
   ],
   "source": [
    "print(Name)"
   ]
  },
  {
   "cell_type": "code",
   "execution_count": null,
   "id": "b10120de-2c65-41b7-98f9-c9b861a3913b",
   "metadata": {},
   "outputs": [],
   "source": []
  },
  {
   "cell_type": "code",
   "execution_count": 55,
   "id": "66db512c-317a-4798-9135-58b9768d7989",
   "metadata": {},
   "outputs": [
    {
     "data": {
      "text/plain": [
       "'Mohamed'"
      ]
     },
     "execution_count": 55,
     "metadata": {},
     "output_type": "execute_result"
    }
   ],
   "source": [
    "name"
   ]
  },
  {
   "cell_type": "code",
   "execution_count": null,
   "id": "4be86b52-a2a1-4768-8d44-332cd8dfaf04",
   "metadata": {},
   "outputs": [],
   "source": []
  },
  {
   "cell_type": "code",
   "execution_count": null,
   "id": "771a2523-a578-472f-92ab-aed70fbd9fdd",
   "metadata": {},
   "outputs": [],
   "source": [
    "class Person:\n",
    "  def __init__(self, name, age):\n",
    "    self.name = name\n",
    "    self.age = age\n",
    "\n",
    "p1 = Person(\"John\", 36)\n",
    "\n",
    "print(p1.name)\n",
    "print(p1.age)"
   ]
  },
  {
   "cell_type": "code",
   "execution_count": null,
   "id": "a28f2b14-27ee-437e-95dd-bdcae5a52165",
   "metadata": {},
   "outputs": [],
   "source": []
  },
  {
   "cell_type": "code",
   "execution_count": null,
   "id": "f818c5ad-4a68-4019-bbb6-000efdfd716a",
   "metadata": {},
   "outputs": [],
   "source": []
  },
  {
   "cell_type": "code",
   "execution_count": null,
   "id": "6dd75425-51ce-4d3a-86e5-83b6fda16edb",
   "metadata": {},
   "outputs": [],
   "source": []
  },
  {
   "cell_type": "code",
   "execution_count": null,
   "id": "1b99d7aa-ac36-4ed4-9711-1675a5e642b0",
   "metadata": {},
   "outputs": [],
   "source": []
  },
  {
   "cell_type": "code",
   "execution_count": null,
   "id": "bf9fcb21-fe53-4a9e-b4ed-4a0a47da34b9",
   "metadata": {},
   "outputs": [],
   "source": []
  },
  {
   "cell_type": "code",
   "execution_count": null,
   "id": "e7da28d6-c8e0-46e4-81dc-f0d554d4e3c7",
   "metadata": {},
   "outputs": [],
   "source": []
  },
  {
   "cell_type": "code",
   "execution_count": null,
   "id": "0968b128-67a9-4a06-ab81-e0edb5939cf9",
   "metadata": {},
   "outputs": [],
   "source": []
  },
  {
   "cell_type": "code",
   "execution_count": 62,
   "id": "a65ad1ef-589e-4ca1-8142-84df35eab92e",
   "metadata": {},
   "outputs": [],
   "source": [
    "a = 1\n",
    "b = 2 \n",
    "c = 3 \n",
    "d = 4 \n",
    "e = 5"
   ]
  },
  {
   "cell_type": "code",
   "execution_count": 63,
   "id": "4bb05749-6225-41bd-8f10-cb6cc16e305c",
   "metadata": {},
   "outputs": [],
   "source": [
    "a,b,c,d,e = 1,2,3,4,5"
   ]
  },
  {
   "cell_type": "code",
   "execution_count": 64,
   "id": "731f42f5-8cdc-4be1-bc31-e3da8d8075ef",
   "metadata": {},
   "outputs": [
    {
     "name": "stdout",
     "output_type": "stream",
     "text": [
      "2\n"
     ]
    }
   ],
   "source": [
    "print(b)"
   ]
  },
  {
   "cell_type": "code",
   "execution_count": 66,
   "id": "e6f51b56-b6d9-4d23-a301-e31399779715",
   "metadata": {},
   "outputs": [],
   "source": [
    "a = 1 ; b = 2 ; c =               3; d = 4 ;"
   ]
  },
  {
   "cell_type": "code",
   "execution_count": 86,
   "id": "a47b7234-8270-4d95-9bf4-11d3b22280d2",
   "metadata": {},
   "outputs": [],
   "source": [
    "y = 2\n",
    "x = 2"
   ]
  },
  {
   "cell_type": "code",
   "execution_count": 74,
   "id": "798764a9-621e-4414-96a4-5bd16770f556",
   "metadata": {},
   "outputs": [
    {
     "data": {
      "text/plain": [
       "550"
      ]
     },
     "execution_count": 74,
     "metadata": {},
     "output_type": "execute_result"
    }
   ],
   "source": [
    "x + y "
   ]
  },
  {
   "cell_type": "code",
   "execution_count": 75,
   "id": "6930efb7-65ae-458f-af18-61eec3306ffd",
   "metadata": {},
   "outputs": [
    {
     "data": {
      "text/plain": [
       "450"
      ]
     },
     "execution_count": 75,
     "metadata": {},
     "output_type": "execute_result"
    }
   ],
   "source": [
    "x - y"
   ]
  },
  {
   "cell_type": "code",
   "execution_count": 76,
   "id": "eddb4048-9540-4582-a658-d34611173b81",
   "metadata": {},
   "outputs": [
    {
     "data": {
      "text/plain": [
       "25000"
      ]
     },
     "execution_count": 76,
     "metadata": {},
     "output_type": "execute_result"
    }
   ],
   "source": [
    "x * y"
   ]
  },
  {
   "cell_type": "code",
   "execution_count": 82,
   "id": "f70eedd2-9636-4e41-99a6-3cc50d1b0f80",
   "metadata": {},
   "outputs": [
    {
     "data": {
      "text/plain": [
       "4.5"
      ]
     },
     "execution_count": 82,
     "metadata": {},
     "output_type": "execute_result"
    }
   ],
   "source": [
    "x / y"
   ]
  },
  {
   "cell_type": "code",
   "execution_count": 83,
   "id": "a8393f06-1cbd-4c28-be9d-e3f0b288cddb",
   "metadata": {},
   "outputs": [
    {
     "data": {
      "text/plain": [
       "1"
      ]
     },
     "execution_count": 83,
     "metadata": {},
     "output_type": "execute_result"
    }
   ],
   "source": [
    "x % y "
   ]
  },
  {
   "cell_type": "code",
   "execution_count": 84,
   "id": "179d9301-2750-48b3-bf94-ad994667ef44",
   "metadata": {},
   "outputs": [
    {
     "data": {
      "text/plain": [
       "4"
      ]
     },
     "execution_count": 84,
     "metadata": {},
     "output_type": "execute_result"
    }
   ],
   "source": [
    "x // y"
   ]
  },
  {
   "cell_type": "code",
   "execution_count": 87,
   "id": "3bb956e8-4913-4419-af2f-88c6bcd9bd91",
   "metadata": {},
   "outputs": [
    {
     "data": {
      "text/plain": [
       "4"
      ]
     },
     "execution_count": 87,
     "metadata": {},
     "output_type": "execute_result"
    }
   ],
   "source": [
    "x ** y "
   ]
  },
  {
   "cell_type": "code",
   "execution_count": 89,
   "id": "9f26d853-2b67-421c-a1cc-e8add09358ea",
   "metadata": {},
   "outputs": [
    {
     "data": {
      "text/plain": [
       "True"
      ]
     },
     "execution_count": 89,
     "metadata": {},
     "output_type": "execute_result"
    }
   ],
   "source": [
    "x == y\n",
    "x != y \n",
    "x > y\n",
    "x < y \n",
    "x >= y \n",
    "x <= y"
   ]
  },
  {
   "cell_type": "code",
   "execution_count": 90,
   "id": "2175ff4f-ef46-470e-9907-c3bc43a0d852",
   "metadata": {},
   "outputs": [],
   "source": [
    "li = [1,2,3]"
   ]
  },
  {
   "cell_type": "code",
   "execution_count": 93,
   "id": "e831873a-79a3-41ff-8641-00ef5260696f",
   "metadata": {},
   "outputs": [
    {
     "data": {
      "text/plain": [
       "True"
      ]
     },
     "execution_count": 93,
     "metadata": {},
     "output_type": "execute_result"
    }
   ],
   "source": [
    "x in li "
   ]
  },
  {
   "cell_type": "code",
   "execution_count": 94,
   "id": "98dff5d6-9ced-44ae-b320-840f762d2e74",
   "metadata": {},
   "outputs": [
    {
     "data": {
      "text/plain": [
       "False"
      ]
     },
     "execution_count": 94,
     "metadata": {},
     "output_type": "execute_result"
    }
   ],
   "source": [
    "x not in li"
   ]
  },
  {
   "cell_type": "code",
   "execution_count": 92,
   "id": "b50ec106-b56c-46ce-8b47-51e87a791c15",
   "metadata": {},
   "outputs": [
    {
     "data": {
      "text/plain": [
       "2"
      ]
     },
     "execution_count": 92,
     "metadata": {},
     "output_type": "execute_result"
    }
   ],
   "source": [
    "x"
   ]
  },
  {
   "cell_type": "code",
   "execution_count": null,
   "id": "37dc9fc9-c2cd-4002-9e51-0b820650e2ff",
   "metadata": {},
   "outputs": [],
   "source": []
  },
  {
   "cell_type": "code",
   "execution_count": null,
   "id": "0054a4e5-de92-43a2-ab33-ffc7f747bd9c",
   "metadata": {},
   "outputs": [],
   "source": []
  },
  {
   "cell_type": "code",
   "execution_count": null,
   "id": "5da24bf1-d6d6-4ee5-8ced-3ec134e5ac82",
   "metadata": {},
   "outputs": [],
   "source": []
  },
  {
   "cell_type": "code",
   "execution_count": null,
   "id": "fea51a8e-0e3a-46b9-896c-9611af7507eb",
   "metadata": {},
   "outputs": [],
   "source": []
  },
  {
   "cell_type": "code",
   "execution_count": null,
   "id": "443c3683-4fd3-4d75-b3e2-7c1779949271",
   "metadata": {},
   "outputs": [],
   "source": []
  },
  {
   "cell_type": "code",
   "execution_count": null,
   "id": "f52609e1-867a-4a1d-95d3-5324210afe9b",
   "metadata": {},
   "outputs": [],
   "source": []
  },
  {
   "cell_type": "code",
   "execution_count": 118,
   "id": "3b1b6df2-502c-4d01-a20c-ca2ca8dbb2b3",
   "metadata": {},
   "outputs": [],
   "source": [
    "x = 5 # integar \n",
    "y = 4.5 # float\n",
    "z = \"5. 5\" # string \n",
    "b = True  # boolean"
   ]
  },
  {
   "cell_type": "code",
   "execution_count": 102,
   "id": "94d613d4-fa40-4851-8a1f-f8b34ff66fd7",
   "metadata": {},
   "outputs": [
    {
     "ename": "TypeError",
     "evalue": "unsupported operand type(s) for +: 'int' and 'str'",
     "output_type": "error",
     "traceback": [
      "\u001b[1;31m---------------------------------------------------------------------------\u001b[0m",
      "\u001b[1;31mTypeError\u001b[0m                                 Traceback (most recent call last)",
      "Cell \u001b[1;32mIn[102], line 1\u001b[0m\n\u001b[1;32m----> 1\u001b[0m x \u001b[38;5;241m+\u001b[39m z\n",
      "\u001b[1;31mTypeError\u001b[0m: unsupported operand type(s) for +: 'int' and 'str'"
     ]
    }
   ],
   "source": [
    "x + z "
   ]
  },
  {
   "cell_type": "code",
   "execution_count": null,
   "id": "3c07ce4d-e7d9-46b3-bc9b-e8db1a8d959a",
   "metadata": {},
   "outputs": [],
   "source": []
  },
  {
   "cell_type": "code",
   "execution_count": 103,
   "id": "a73890eb-aeec-416d-af67-607a7e84cfc1",
   "metadata": {},
   "outputs": [
    {
     "data": {
      "text/plain": [
       "int"
      ]
     },
     "execution_count": 103,
     "metadata": {},
     "output_type": "execute_result"
    }
   ],
   "source": [
    "type(x)"
   ]
  },
  {
   "cell_type": "code",
   "execution_count": 104,
   "id": "33c5ed65-df65-4cd9-9f4b-aa92e58fe9e7",
   "metadata": {},
   "outputs": [
    {
     "data": {
      "text/plain": [
       "float"
      ]
     },
     "execution_count": 104,
     "metadata": {},
     "output_type": "execute_result"
    }
   ],
   "source": [
    "type(y)"
   ]
  },
  {
   "cell_type": "code",
   "execution_count": 105,
   "id": "85179e78-412e-4767-b99f-b7af4b3ce7f6",
   "metadata": {},
   "outputs": [
    {
     "data": {
      "text/plain": [
       "str"
      ]
     },
     "execution_count": 105,
     "metadata": {},
     "output_type": "execute_result"
    }
   ],
   "source": [
    "type(z)"
   ]
  },
  {
   "cell_type": "code",
   "execution_count": 109,
   "id": "1d66ded2-ce2b-42d0-bc11-95d265c8d947",
   "metadata": {},
   "outputs": [
    {
     "data": {
      "text/plain": [
       "bool"
      ]
     },
     "execution_count": 109,
     "metadata": {},
     "output_type": "execute_result"
    }
   ],
   "source": [
    "type( b )"
   ]
  },
  {
   "cell_type": "code",
   "execution_count": 110,
   "id": "30f92ffa-ac89-487e-93ea-067fd8245d89",
   "metadata": {},
   "outputs": [
    {
     "data": {
      "text/plain": [
       "5.0"
      ]
     },
     "execution_count": 110,
     "metadata": {},
     "output_type": "execute_result"
    }
   ],
   "source": [
    "float(x)"
   ]
  },
  {
   "cell_type": "code",
   "execution_count": 111,
   "id": "b79b59aa-1621-4fbb-8f74-34f9dda07ec7",
   "metadata": {},
   "outputs": [
    {
     "data": {
      "text/plain": [
       "4"
      ]
     },
     "execution_count": 111,
     "metadata": {},
     "output_type": "execute_result"
    }
   ],
   "source": [
    "int(y)"
   ]
  },
  {
   "cell_type": "code",
   "execution_count": 119,
   "id": "82f6f433-2dd4-4c5b-a47d-eea2d21f00b1",
   "metadata": {},
   "outputs": [
    {
     "ename": "ValueError",
     "evalue": "invalid literal for int() with base 10: '5. 5'",
     "output_type": "error",
     "traceback": [
      "\u001b[1;31m---------------------------------------------------------------------------\u001b[0m",
      "\u001b[1;31mValueError\u001b[0m                                Traceback (most recent call last)",
      "Cell \u001b[1;32mIn[119], line 1\u001b[0m\n\u001b[1;32m----> 1\u001b[0m \u001b[38;5;28mint\u001b[39m(z)\n",
      "\u001b[1;31mValueError\u001b[0m: invalid literal for int() with base 10: '5. 5'"
     ]
    }
   ],
   "source": [
    "int(z)"
   ]
  },
  {
   "cell_type": "code",
   "execution_count": 120,
   "id": "f565b9b7-7f07-418d-bab9-80c95f8e8c1d",
   "metadata": {},
   "outputs": [
    {
     "ename": "ValueError",
     "evalue": "could not convert string to float: '5. 5'",
     "output_type": "error",
     "traceback": [
      "\u001b[1;31m---------------------------------------------------------------------------\u001b[0m",
      "\u001b[1;31mValueError\u001b[0m                                Traceback (most recent call last)",
      "Cell \u001b[1;32mIn[120], line 1\u001b[0m\n\u001b[1;32m----> 1\u001b[0m \u001b[38;5;28mint\u001b[39m(\u001b[38;5;28mfloat\u001b[39m(z))\n",
      "\u001b[1;31mValueError\u001b[0m: could not convert string to float: '5. 5'"
     ]
    }
   ],
   "source": [
    "int(float(z))"
   ]
  },
  {
   "cell_type": "code",
   "execution_count": 122,
   "id": "d5320557-4b50-4c4c-b953-9f3d36f36d2d",
   "metadata": {},
   "outputs": [
    {
     "data": {
      "text/plain": [
       "1.0"
      ]
     },
     "execution_count": 122,
     "metadata": {},
     "output_type": "execute_result"
    }
   ],
   "source": [
    "float(b)"
   ]
  },
  {
   "cell_type": "code",
   "execution_count": 123,
   "id": "22e51f58-0604-466c-af6c-080c7647cd82",
   "metadata": {},
   "outputs": [
    {
     "data": {
      "text/plain": [
       "'5'"
      ]
     },
     "execution_count": 123,
     "metadata": {},
     "output_type": "execute_result"
    }
   ],
   "source": [
    "str(x)"
   ]
  },
  {
   "cell_type": "code",
   "execution_count": 124,
   "id": "1f54b194-32a1-4818-9a69-80e15b20296d",
   "metadata": {},
   "outputs": [
    {
     "data": {
      "text/plain": [
       "'True'"
      ]
     },
     "execution_count": 124,
     "metadata": {},
     "output_type": "execute_result"
    }
   ],
   "source": [
    "str(b)"
   ]
  },
  {
   "cell_type": "code",
   "execution_count": 125,
   "id": "6fc47983-0ce0-48ee-96b4-ba3bbf9a1007",
   "metadata": {},
   "outputs": [
    {
     "data": {
      "text/plain": [
       "'4.5'"
      ]
     },
     "execution_count": 125,
     "metadata": {},
     "output_type": "execute_result"
    }
   ],
   "source": [
    "str(y)"
   ]
  },
  {
   "cell_type": "code",
   "execution_count": 126,
   "id": "e7045bd3-c395-4515-82a1-ca689078f575",
   "metadata": {},
   "outputs": [
    {
     "data": {
      "text/plain": [
       "\u001b[1;31mInit signature:\u001b[0m \u001b[0mstr\u001b[0m\u001b[1;33m(\u001b[0m\u001b[0mself\u001b[0m\u001b[1;33m,\u001b[0m \u001b[1;33m/\u001b[0m\u001b[1;33m,\u001b[0m \u001b[1;33m*\u001b[0m\u001b[0margs\u001b[0m\u001b[1;33m,\u001b[0m \u001b[1;33m**\u001b[0m\u001b[0mkwargs\u001b[0m\u001b[1;33m)\u001b[0m\u001b[1;33m\u001b[0m\u001b[1;33m\u001b[0m\u001b[0m\n",
       "\u001b[1;31mDocstring:\u001b[0m     \n",
       "str(object='') -> str\n",
       "str(bytes_or_buffer[, encoding[, errors]]) -> str\n",
       "\n",
       "Create a new string object from the given object. If encoding or\n",
       "errors is specified, then the object must expose a data buffer\n",
       "that will be decoded using the given encoding and error handler.\n",
       "Otherwise, returns the result of object.__str__() (if defined)\n",
       "or repr(object).\n",
       "encoding defaults to sys.getdefaultencoding().\n",
       "errors defaults to 'strict'.\n",
       "\u001b[1;31mType:\u001b[0m           type\n",
       "\u001b[1;31mSubclasses:\u001b[0m     StrEnum, DeferredConfigString, FoldedCase, _rstr, _ScriptTarget, _ModuleTarget, LSString, include, Keys, InputMode, ..."
      ]
     },
     "metadata": {},
     "output_type": "display_data"
    }
   ],
   "source": [
    "str?"
   ]
  },
  {
   "cell_type": "code",
   "execution_count": 138,
   "id": "1afb36e0-1729-442d-aa6f-3e52ebf7d1ad",
   "metadata": {},
   "outputs": [
    {
     "data": {
      "text/plain": [
       "\u001b[1;31mSignature:\u001b[0m \u001b[0mprint\u001b[0m\u001b[1;33m(\u001b[0m\u001b[1;33m*\u001b[0m\u001b[0margs\u001b[0m\u001b[1;33m,\u001b[0m \u001b[0msep\u001b[0m\u001b[1;33m=\u001b[0m\u001b[1;34m' '\u001b[0m\u001b[1;33m,\u001b[0m \u001b[0mend\u001b[0m\u001b[1;33m=\u001b[0m\u001b[1;34m'\\n'\u001b[0m\u001b[1;33m,\u001b[0m \u001b[0mfile\u001b[0m\u001b[1;33m=\u001b[0m\u001b[1;32mNone\u001b[0m\u001b[1;33m,\u001b[0m \u001b[0mflush\u001b[0m\u001b[1;33m=\u001b[0m\u001b[1;32mFalse\u001b[0m\u001b[1;33m)\u001b[0m\u001b[1;33m\u001b[0m\u001b[1;33m\u001b[0m\u001b[0m\n",
       "\u001b[1;31mDocstring:\u001b[0m\n",
       "Prints the values to a stream, or to sys.stdout by default.\n",
       "\n",
       "sep\n",
       "  string inserted between values, default a space.\n",
       "end\n",
       "  string appended after the last value, default a newline.\n",
       "file\n",
       "  a file-like object (stream); defaults to the current sys.stdout.\n",
       "flush\n",
       "  whether to forcibly flush the stream.\n",
       "\u001b[1;31mType:\u001b[0m      builtin_function_or_method"
      ]
     },
     "metadata": {},
     "output_type": "display_data"
    }
   ],
   "source": [
    "print?"
   ]
  },
  {
   "cell_type": "code",
   "execution_count": 139,
   "id": "dfb2fac5-c89c-45fd-a78a-889104b4f86d",
   "metadata": {},
   "outputs": [
    {
     "data": {
      "text/plain": [
       "['__add__',\n",
       " '__class__',\n",
       " '__contains__',\n",
       " '__delattr__',\n",
       " '__dir__',\n",
       " '__doc__',\n",
       " '__eq__',\n",
       " '__format__',\n",
       " '__ge__',\n",
       " '__getattribute__',\n",
       " '__getitem__',\n",
       " '__getnewargs__',\n",
       " '__getstate__',\n",
       " '__gt__',\n",
       " '__hash__',\n",
       " '__init__',\n",
       " '__init_subclass__',\n",
       " '__iter__',\n",
       " '__le__',\n",
       " '__len__',\n",
       " '__lt__',\n",
       " '__mod__',\n",
       " '__mul__',\n",
       " '__ne__',\n",
       " '__new__',\n",
       " '__reduce__',\n",
       " '__reduce_ex__',\n",
       " '__repr__',\n",
       " '__rmod__',\n",
       " '__rmul__',\n",
       " '__setattr__',\n",
       " '__sizeof__',\n",
       " '__str__',\n",
       " '__subclasshook__',\n",
       " 'capitalize',\n",
       " 'casefold',\n",
       " 'center',\n",
       " 'count',\n",
       " 'encode',\n",
       " 'endswith',\n",
       " 'expandtabs',\n",
       " 'find',\n",
       " 'format',\n",
       " 'format_map',\n",
       " 'index',\n",
       " 'isalnum',\n",
       " 'isalpha',\n",
       " 'isascii',\n",
       " 'isdecimal',\n",
       " 'isdigit',\n",
       " 'isidentifier',\n",
       " 'islower',\n",
       " 'isnumeric',\n",
       " 'isprintable',\n",
       " 'isspace',\n",
       " 'istitle',\n",
       " 'isupper',\n",
       " 'join',\n",
       " 'ljust',\n",
       " 'lower',\n",
       " 'lstrip',\n",
       " 'maketrans',\n",
       " 'partition',\n",
       " 'removeprefix',\n",
       " 'removesuffix',\n",
       " 'replace',\n",
       " 'rfind',\n",
       " 'rindex',\n",
       " 'rjust',\n",
       " 'rpartition',\n",
       " 'rsplit',\n",
       " 'rstrip',\n",
       " 'split',\n",
       " 'splitlines',\n",
       " 'startswith',\n",
       " 'strip',\n",
       " 'swapcase',\n",
       " 'title',\n",
       " 'translate',\n",
       " 'upper',\n",
       " 'zfill']"
      ]
     },
     "execution_count": 139,
     "metadata": {},
     "output_type": "execute_result"
    }
   ],
   "source": [
    "dir(str)"
   ]
  },
  {
   "cell_type": "code",
   "execution_count": null,
   "id": "f744efe0-765a-4a1b-a1a1-1b5e32a82093",
   "metadata": {},
   "outputs": [],
   "source": []
  },
  {
   "cell_type": "code",
   "execution_count": null,
   "id": "974c1014-1439-43f6-8288-02fab013ceb1",
   "metadata": {},
   "outputs": [],
   "source": []
  },
  {
   "cell_type": "code",
   "execution_count": 152,
   "id": "84e966df-244c-48f0-86b2-2098d5997554",
   "metadata": {},
   "outputs": [
    {
     "name": "stdout",
     "output_type": "stream",
     "text": [
      "ahmed\n"
     ]
    }
   ],
   "source": [
    "z = \"ahmed\".lower()\n",
    "print(z)"
   ]
  },
  {
   "cell_type": "code",
   "execution_count": 149,
   "id": "d4b9d0ca-96e5-4599-809f-000dcd670f8a",
   "metadata": {},
   "outputs": [
    {
     "data": {
      "text/plain": [
       "\u001b[1;31mSignature:\u001b[0m \u001b[0mstr\u001b[0m\u001b[1;33m.\u001b[0m\u001b[0mcapitalize\u001b[0m\u001b[1;33m(\u001b[0m\u001b[0mself\u001b[0m\u001b[1;33m,\u001b[0m \u001b[1;33m/\u001b[0m\u001b[1;33m)\u001b[0m\u001b[1;33m\u001b[0m\u001b[1;33m\u001b[0m\u001b[0m\n",
       "\u001b[1;31mDocstring:\u001b[0m\n",
       "Return a capitalized version of the string.\n",
       "\n",
       "More specifically, make the first character have upper case and the rest lower\n",
       "case.\n",
       "\u001b[1;31mType:\u001b[0m      method_descriptor"
      ]
     },
     "metadata": {},
     "output_type": "display_data"
    }
   ],
   "source": [
    "str.capitalize?"
   ]
  },
  {
   "cell_type": "code",
   "execution_count": null,
   "id": "4f7e6db3-679e-4f4c-9225-6d3a8c31151d",
   "metadata": {},
   "outputs": [],
   "source": []
  },
  {
   "cell_type": "code",
   "execution_count": 190,
   "id": "b489ff12-2c32-4976-98ef-307d3da1ee9e",
   "metadata": {},
   "outputs": [],
   "source": [
    "full_name = \"saad mohamed\""
   ]
  },
  {
   "cell_type": "code",
   "execution_count": 194,
   "id": "47ebc4aa-3b9a-4ad9-8d07-ef9c2850f1f2",
   "metadata": {},
   "outputs": [],
   "source": [
    "first_name = full_name[5:12]\n",
    "last_name = full_name[0:5]"
   ]
  },
  {
   "cell_type": "code",
   "execution_count": 211,
   "id": "d6a0bce3-7dfc-49ac-9dce-0a5f8995e6a7",
   "metadata": {},
   "outputs": [
    {
     "name": "stdout",
     "output_type": "stream",
     "text": [
      "mohamed*_**_**_**_**_**_**_**_**_**_**_**_**_**_**_**_**_**_**_**_*saad \n"
     ]
    }
   ],
   "source": [
    "print(first_name + 20 *  \"*_*\" + last_name)"
   ]
  },
  {
   "cell_type": "code",
   "execution_count": 199,
   "id": "be6c7c74-24c3-4076-8f48-ebedb78cff1d",
   "metadata": {},
   "outputs": [
    {
     "data": {
      "text/plain": [
       "'mad'"
      ]
     },
     "execution_count": 199,
     "metadata": {},
     "output_type": "execute_result"
    }
   ],
   "source": [
    "full_name[5:12:3]"
   ]
  },
  {
   "cell_type": "code",
   "execution_count": null,
   "id": "e1034eb7-c92b-4aa8-b084-63e5cdb05afd",
   "metadata": {},
   "outputs": [],
   "source": []
  },
  {
   "cell_type": "code",
   "execution_count": null,
   "id": "5a36cc71-0efc-4197-aff2-1d7e68362f89",
   "metadata": {},
   "outputs": [],
   "source": []
  },
  {
   "cell_type": "code",
   "execution_count": null,
   "id": "07c5c817-cf5e-4ade-97f4-b85d045a6478",
   "metadata": {},
   "outputs": [],
   "source": []
  },
  {
   "cell_type": "code",
   "execution_count": null,
   "id": "1193a061-e509-41f0-bcef-4efc72510615",
   "metadata": {},
   "outputs": [],
   "source": []
  },
  {
   "cell_type": "code",
   "execution_count": null,
   "id": "62e573c4-643e-4370-95ae-0a3d4f751c21",
   "metadata": {},
   "outputs": [],
   "source": []
  },
  {
   "cell_type": "code",
   "execution_count": null,
   "id": "0c5f13fd-fdd2-4749-8af6-be9f33e97a83",
   "metadata": {},
   "outputs": [],
   "source": []
  },
  {
   "cell_type": "code",
   "execution_count": null,
   "id": "94baec4a-a11d-46cc-8506-502b2d9f70e4",
   "metadata": {},
   "outputs": [],
   "source": []
  },
  {
   "cell_type": "code",
   "execution_count": 158,
   "id": "49abbd9f-3d27-4b9d-abd3-c202b0838054",
   "metadata": {},
   "outputs": [
    {
     "data": {
      "text/plain": [
       "True"
      ]
     },
     "execution_count": 158,
     "metadata": {},
     "output_type": "execute_result"
    }
   ],
   "source": [
    "bool(z)"
   ]
  },
  {
   "cell_type": "code",
   "execution_count": 180,
   "id": "44d80276-e6f3-428e-b49a-206c0b049753",
   "metadata": {},
   "outputs": [
    {
     "name": "stdout",
     "output_type": "stream",
     "text": [
      "Hello\tNadem\n",
      "Welcome Back\n"
     ]
    }
   ],
   "source": [
    "if name == \"Nadem\" :\n",
    "    print(\"Hello\\t\" + name + \"\\nWelcome Back\")\n",
    "    \n",
    "else :\n",
    "    print(\"Hello User\")"
   ]
  },
  {
   "cell_type": "code",
   "execution_count": 183,
   "id": "60f5bef3-362c-4202-b3c9-4a9ef0682c50",
   "metadata": {},
   "outputs": [],
   "source": [
    "l = \"mohamed\""
   ]
  },
  {
   "cell_type": "code",
   "execution_count": 184,
   "id": "136ce0df-c579-463f-83c5-61e756014d31",
   "metadata": {},
   "outputs": [
    {
     "data": {
      "text/plain": [
       "['m', 'o', 'h', 'a', 'm', 'e', 'd']"
      ]
     },
     "execution_count": 184,
     "metadata": {},
     "output_type": "execute_result"
    }
   ],
   "source": [
    "list(l)"
   ]
  },
  {
   "cell_type": "code",
   "execution_count": null,
   "id": "d64c732a-4047-4121-a245-c17e2df5d5bc",
   "metadata": {},
   "outputs": [],
   "source": []
  },
  {
   "cell_type": "code",
   "execution_count": null,
   "id": "5f775d5d-23bd-457e-9b7a-7e5e50b0f15a",
   "metadata": {},
   "outputs": [],
   "source": []
  },
  {
   "cell_type": "code",
   "execution_count": null,
   "id": "6914a276-7a95-4925-80c0-08cb764e9345",
   "metadata": {},
   "outputs": [],
   "source": []
  },
  {
   "cell_type": "code",
   "execution_count": null,
   "id": "a1a9c6d7-c5b3-407e-ae4b-b4516cd6f387",
   "metadata": {},
   "outputs": [],
   "source": []
  },
  {
   "cell_type": "code",
   "execution_count": null,
   "id": "e2b9ff5d-04a3-4754-9148-2f842d11f529",
   "metadata": {},
   "outputs": [],
   "source": []
  },
  {
   "cell_type": "code",
   "execution_count": 230,
   "id": "d03b4cca-0f97-4c53-81dc-e94679960973",
   "metadata": {},
   "outputs": [
    {
     "name": "stdin",
     "output_type": "stream",
     "text": [
      "PLease enter first Number ! 10\n",
      "PLease enter second Number ! 5\n",
      "please enter the operator ! *\n"
     ]
    }
   ],
   "source": [
    "number_1 = float(input(\"PLease enter first Number !\"))\n",
    "number_2 = float(input(\"PLease enter second Number !\"))\n",
    "op = input(\"please enter the operator !\")"
   ]
  },
  {
   "cell_type": "code",
   "execution_count": 231,
   "id": "4fb91284-e809-4668-8948-1204bf6a0ba2",
   "metadata": {},
   "outputs": [
    {
     "name": "stdout",
     "output_type": "stream",
     "text": [
      "50.0\n"
     ]
    }
   ],
   "source": [
    "if op == \"+\":\n",
    "    print(number_1 + number_2)\n",
    "elif op == \"-\":\n",
    "    print(number_1 - number_2 )\n",
    "elif op == \"*\":\n",
    "    print(number_1 * number_2 )    \n",
    "elif op == \"/\":\n",
    "    if number_2 == 0:\n",
    "        print(\"Mthzrsh m3aya\")\n",
    "    else:\n",
    "        print(number_1 / number_2 )"
   ]
  },
  {
   "cell_type": "code",
   "execution_count": 248,
   "id": "53ee74ce-563a-41b4-bea5-b8fc5432480e",
   "metadata": {},
   "outputs": [
    {
     "name": "stdin",
     "output_type": "stream",
     "text": [
      "Do you want to Continue ?  YES\n",
      "PLease enter first Number ! s\n"
     ]
    },
    {
     "ename": "ValueError",
     "evalue": "could not convert string to float: 's'",
     "output_type": "error",
     "traceback": [
      "\u001b[1;31m---------------------------------------------------------------------------\u001b[0m",
      "\u001b[1;31mValueError\u001b[0m                                Traceback (most recent call last)",
      "Cell \u001b[1;32mIn[248], line 6\u001b[0m\n\u001b[0;32m      3\u001b[0m cont \u001b[38;5;241m=\u001b[39m \u001b[38;5;28minput\u001b[39m(\u001b[38;5;124m\"\u001b[39m\u001b[38;5;124mDo you want to Continue ? \u001b[39m\u001b[38;5;124m\"\u001b[39m)\u001b[38;5;241m.\u001b[39mlower()\n\u001b[0;32m      5\u001b[0m \u001b[38;5;28;01mif\u001b[39;00m cont \u001b[38;5;241m==\u001b[39m \u001b[38;5;124m\"\u001b[39m\u001b[38;5;124myes\u001b[39m\u001b[38;5;124m\"\u001b[39m :\n\u001b[1;32m----> 6\u001b[0m     number_1 \u001b[38;5;241m=\u001b[39m \u001b[38;5;28mfloat\u001b[39m(\u001b[38;5;28minput\u001b[39m(\u001b[38;5;124m\"\u001b[39m\u001b[38;5;124mPLease enter first Number !\u001b[39m\u001b[38;5;124m\"\u001b[39m))\n\u001b[0;32m      7\u001b[0m     number_2 \u001b[38;5;241m=\u001b[39m \u001b[38;5;28mfloat\u001b[39m(\u001b[38;5;28minput\u001b[39m(\u001b[38;5;124m\"\u001b[39m\u001b[38;5;124mPLease enter second Number !\u001b[39m\u001b[38;5;124m\"\u001b[39m))\n\u001b[0;32m      8\u001b[0m     op \u001b[38;5;241m=\u001b[39m \u001b[38;5;28minput\u001b[39m(\u001b[38;5;124m\"\u001b[39m\u001b[38;5;124mplease enter the operator !\u001b[39m\u001b[38;5;124m\"\u001b[39m)\n",
      "\u001b[1;31mValueError\u001b[0m: could not convert string to float: 's'"
     ]
    }
   ],
   "source": [
    "while True :\n",
    "\n",
    "    cont = input(\"Do you want to Continue ? \").lower()\n",
    "    \n",
    "    if cont == \"yes\" :\n",
    "        number_1 = float(input(\"PLease enter first Number !\"))\n",
    "        number_2 = float(input(\"PLease enter second Number !\"))\n",
    "        op = input(\"please enter the operator !\")\n",
    "        if op == \"+\":\n",
    "            print(number_1 + number_2)\n",
    "        elif op == \"-\":\n",
    "            print(number_1 - number_2 )\n",
    "        elif op == \"*\":\n",
    "            print(number_1 * number_2 )    \n",
    "        elif op == \"/\":\n",
    "            if number_2 == 0:\n",
    "                print(\"Mthzrsh m3aya\")\n",
    "            else:\n",
    "                print(number_1 / number_2 )\n",
    "    else:\n",
    "        print(\"See you !\")\n",
    "        break"
   ]
  },
  {
   "cell_type": "code",
   "execution_count": null,
   "id": "2c792720-d6d8-4fd1-806c-d32e954b81d9",
   "metadata": {},
   "outputs": [],
   "source": []
  },
  {
   "cell_type": "code",
   "execution_count": null,
   "id": "d958b405-f8f6-417a-bfef-380e9f99dd0f",
   "metadata": {},
   "outputs": [],
   "source": []
  },
  {
   "cell_type": "code",
   "execution_count": null,
   "id": "3011c0c0-afbf-45f9-99e8-46357a1e7dca",
   "metadata": {},
   "outputs": [],
   "source": []
  },
  {
   "cell_type": "code",
   "execution_count": 236,
   "id": "2e0141a5-47c0-45a0-ba43-8e1d3f4a97ca",
   "metadata": {},
   "outputs": [
    {
     "name": "stdout",
     "output_type": "stream",
     "text": [
      "5\n",
      "10\n",
      "15\n",
      "20\n",
      "25\n",
      "30\n",
      "35\n",
      "40\n",
      "45\n",
      "50\n"
     ]
    }
   ],
   "source": [
    "name = [1,2,3,4,5,6,7,8,9,10]\n",
    "for i in name :\n",
    "    print( i * 5 )"
   ]
  },
  {
   "cell_type": "code",
   "execution_count": 237,
   "id": "973b96b5-197e-4626-a457-b6ce05505cdb",
   "metadata": {},
   "outputs": [
    {
     "name": "stdout",
     "output_type": "stream",
     "text": [
      "10\n"
     ]
    }
   ],
   "source": [
    "print(i)"
   ]
  },
  {
   "cell_type": "code",
   "execution_count": null,
   "id": "853c5f6b-0f6b-4697-afdc-8ce4e8c3b3c5",
   "metadata": {},
   "outputs": [],
   "source": []
  },
  {
   "cell_type": "code",
   "execution_count": 243,
   "id": "a8b281cb-bb68-4014-a4db-49ac1e502bcc",
   "metadata": {},
   "outputs": [
    {
     "name": "stdout",
     "output_type": "stream",
     "text": [
      "ay 7aga 1\n",
      "ay 7aga 2\n",
      "ay 7aga 3\n",
      "ay 7aga 4\n",
      "ay 7aga 5\n",
      "ay 7aga 6\n",
      "ay 7aga 7\n",
      "ay 7aga 8\n",
      "ay 7aga 9\n"
     ]
    }
   ],
   "source": [
    "x = 1\n",
    "\n",
    "while x < 10 :\n",
    "    print(\"ay 7aga\", x)\n",
    "    x += 1 # >>> x = x + 1 "
   ]
  },
  {
   "cell_type": "code",
   "execution_count": null,
   "id": "38a18b08-8f14-4a06-b0c0-4957d5cad3fe",
   "metadata": {},
   "outputs": [],
   "source": []
  },
  {
   "cell_type": "code",
   "execution_count": null,
   "id": "84bb591c-2dc6-4c68-9a8a-5c078334f20a",
   "metadata": {},
   "outputs": [],
   "source": []
  },
  {
   "cell_type": "code",
   "execution_count": null,
   "id": "7ac89853-d91e-4dde-9d36-e257c71d07b5",
   "metadata": {},
   "outputs": [],
   "source": []
  },
  {
   "cell_type": "code",
   "execution_count": null,
   "id": "fae147d4-2912-4c89-adf1-d25f8b650f73",
   "metadata": {},
   "outputs": [],
   "source": []
  },
  {
   "cell_type": "code",
   "execution_count": null,
   "id": "b6971a8b-f27e-4160-9cc4-79d01f8966a7",
   "metadata": {},
   "outputs": [],
   "source": []
  },
  {
   "cell_type": "code",
   "execution_count": null,
   "id": "824d44e4-0b8e-4b68-b28c-2bc8b84e3a15",
   "metadata": {},
   "outputs": [],
   "source": []
  },
  {
   "cell_type": "code",
   "execution_count": null,
   "id": "3971143b-8b5e-412d-b46d-3e3b56f7972f",
   "metadata": {},
   "outputs": [],
   "source": []
  }
 ],
 "metadata": {
  "kernelspec": {
   "display_name": "Python 3 (ipykernel)",
   "language": "python",
   "name": "python3"
  },
  "language_info": {
   "codemirror_mode": {
    "name": "ipython",
    "version": 3
   },
   "file_extension": ".py",
   "mimetype": "text/x-python",
   "name": "python",
   "nbconvert_exporter": "python",
   "pygments_lexer": "ipython3",
   "version": "3.11.7"
  }
 },
 "nbformat": 4,
 "nbformat_minor": 5
}
